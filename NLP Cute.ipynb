{
 "cells": [
  {
   "cell_type": "markdown",
   "metadata": {},
   "source": [
    "# TASK- I (10 Marks) Extract the recent 500 posts information from Hacker News website (https://news.ycombinator.com/newest) and save the following to a dataframe as columns:"
   ]
  },
  {
   "cell_type": "markdown",
   "metadata": {},
   "source": [
    "TASK- I (10 Marks)\n",
    "Extract the recent 500 posts information from Hacker News website\n",
    "(https://news.ycombinator.com/newest) and save the following to a dataframe as columns: (10M)\n",
    "● Title : title of the post\n",
    "● date_created : date and time the post was made\n",
    "● posted_by_user : name of the account that made the post\n",
    "● url : url of the post\n",
    "● domain : domain like github.com, medium.com etc\n",
    "● num_upvotes : number of upvotes the post received\n",
    "● num_comments : number of comments the post received\n"
   ]
  },
  {
   "cell_type": "code",
   "execution_count": 0,
   "metadata": {
    "colab": {},
    "colab_type": "code",
    "id": "8obcokzfUjca"
   },
   "outputs": [],
   "source": [
    "import urllib.request as url\n",
    "import re\n",
    "import warnings\n",
    "warnings.filterwarnings('ignore')\n",
    "import requests\n",
    "from bs4 import BeautifulSoup as bs\n",
    "import pandas as pd\n",
    "import numpy as np\n",
    "\n",
    "import random\n",
    "random.seed(123)"
   ]
  },
  {
   "cell_type": "markdown",
   "metadata": {
    "colab_type": "text",
    "id": "SIKEANAr7hTw"
   },
   "source": [
    "Extracting multiple pages from web and finding link for that and creating loop for that"
   ]
  },
  {
   "cell_type": "code",
   "execution_count": 0,
   "metadata": {
    "colab": {
     "base_uri": "https://localhost:8080/",
     "height": 399
    },
    "colab_type": "code",
    "id": "fk4nqO0rVOXG",
    "outputId": "44f66b1a-b76f-4637-b9d4-7d076748f41c"
   },
   "outputs": [
    {
     "name": "stdout",
     "output_type": "stream",
     "text": [
      "https://news.ycombinator.com/newest\n",
      "https://news.ycombinator.com/newest?next=21760619&n=31\n",
      "https://news.ycombinator.com/newest?next=21760318&n=61\n",
      "https://news.ycombinator.com/newest?next=21760021&n=91\n",
      "https://news.ycombinator.com/newest?next=21759679&n=121\n",
      "https://news.ycombinator.com/newest?next=21759255&n=151\n",
      "https://news.ycombinator.com/newest?next=21758796&n=181\n",
      "https://news.ycombinator.com/newest?next=21758494&n=211\n",
      "https://news.ycombinator.com/newest?next=21758102&n=241\n",
      "https://news.ycombinator.com/newest?next=21757829&n=271\n",
      "https://news.ycombinator.com/newest?next=21757603&n=301\n",
      "https://news.ycombinator.com/newest?next=21757239&n=331\n",
      "https://news.ycombinator.com/newest?next=21756864&n=361\n",
      "https://news.ycombinator.com/newest?next=21756533&n=391\n",
      "https://news.ycombinator.com/newest?next=21756306&n=421\n",
      "https://news.ycombinator.com/newest?next=21756008&n=451\n",
      "https://news.ycombinator.com/newest?next=21755710&n=481\n",
      "https://news.ycombinator.com/newest?next=21755408&n=511\n",
      "https://news.ycombinator.com/newest?next=21755034&n=541\n",
      "https://news.ycombinator.com/newest?next=21754750&n=571\n",
      "https://news.ycombinator.com/newest?next=21754575&n=601\n"
     ]
    }
   ],
   "source": [
    "list1 = []\n",
    "link_newest = \"https://news.ycombinator.com/\"\n",
    "for i in range(1,22):\n",
    "  if i == 1:\n",
    "    link1=\"https://news.ycombinator.com/newest\"\n",
    "    list1.append(link1)\n",
    "  else:\n",
    "    link1 = link_newest + add\n",
    "    list1.append(link1)\n",
    "  print(link1)\n",
    "  soup= bs(url.urlopen(link1))\n",
    "  for link in soup.find_all('a'):\n",
    "    if len(link.text.strip()) > 1 and re.match('More',link.text):\n",
    "        add = link['href']\n",
    "\n"
   ]
  },
  {
   "cell_type": "code",
   "execution_count": 0,
   "metadata": {
    "colab": {
     "base_uri": "https://localhost:8080/",
     "height": 399
    },
    "colab_type": "code",
    "id": "AJHhvaAdW7u_",
    "outputId": "a0511786-3663-4d36-8db4-237d4f0a70b6"
   },
   "outputs": [
    {
     "data": {
      "text/plain": [
       "['https://news.ycombinator.com/newest',\n",
       " 'https://news.ycombinator.com/newest?next=21760619&n=31',\n",
       " 'https://news.ycombinator.com/newest?next=21760318&n=61',\n",
       " 'https://news.ycombinator.com/newest?next=21760021&n=91',\n",
       " 'https://news.ycombinator.com/newest?next=21759679&n=121',\n",
       " 'https://news.ycombinator.com/newest?next=21759255&n=151',\n",
       " 'https://news.ycombinator.com/newest?next=21758796&n=181',\n",
       " 'https://news.ycombinator.com/newest?next=21758494&n=211',\n",
       " 'https://news.ycombinator.com/newest?next=21758102&n=241',\n",
       " 'https://news.ycombinator.com/newest?next=21757829&n=271',\n",
       " 'https://news.ycombinator.com/newest?next=21757603&n=301',\n",
       " 'https://news.ycombinator.com/newest?next=21757239&n=331',\n",
       " 'https://news.ycombinator.com/newest?next=21756864&n=361',\n",
       " 'https://news.ycombinator.com/newest?next=21756533&n=391',\n",
       " 'https://news.ycombinator.com/newest?next=21756306&n=421',\n",
       " 'https://news.ycombinator.com/newest?next=21756008&n=451',\n",
       " 'https://news.ycombinator.com/newest?next=21755710&n=481',\n",
       " 'https://news.ycombinator.com/newest?next=21755408&n=511',\n",
       " 'https://news.ycombinator.com/newest?next=21755034&n=541',\n",
       " 'https://news.ycombinator.com/newest?next=21754750&n=571',\n",
       " 'https://news.ycombinator.com/newest?next=21754575&n=601']"
      ]
     },
     "execution_count": 8,
     "metadata": {
      "tags": []
     },
     "output_type": "execute_result"
    }
   ],
   "source": [
    "list1"
   ]
  },
  {
   "cell_type": "markdown",
   "metadata": {
    "colab_type": "text",
    "id": "9CqyRDOm8ATM"
   },
   "source": [
    "Creating Function for extracting data by using url\n"
   ]
  },
  {
   "cell_type": "code",
   "execution_count": 0,
   "metadata": {
    "colab": {},
    "colab_type": "code",
    "id": "ECq6xRBWUjcx"
   },
   "outputs": [],
   "source": [
    "def extract_web(link):\n",
    "    html = url.urlopen(link).read()\n",
    "    soup = bs(html,'html.parser')\n",
    "    d={'title':[],'domain':[],'url':[],'date_created':[],'num_upvotes':[],'num_comments':[],'posted_by_user':[]}\n",
    "    for i in soup.find_all('td',class_='title')[1::2]:\n",
    "        try:\n",
    "            d['title'].append(i.text)\n",
    "        except:\n",
    "            d['title'].append('missing')\n",
    "        try:\n",
    "            d['domain'].append(i.span.text)\n",
    "        except:\n",
    "            d['domain'].append('missing')\n",
    "        try:\n",
    "            d['url'].append(i.a['href'])\n",
    "        except:\n",
    "            d['url'].append('missing')\n",
    "    for l in soup.find_all('td',class_='subtext'):\n",
    "        try:\n",
    "            d['num_upvotes'].append(l.span.text)\n",
    "        except:\n",
    "            d['num_upvotes'].append('missing')\n",
    "        try:\n",
    "            d['date_created'].append(l.find_all('a')[1].text)\n",
    "        except:\n",
    "            d['date_created'].append('missing')\n",
    "        try:\n",
    "            d['num_comments'].append(l.find_all('a')[-1].text)\n",
    "        except:\n",
    "            d['num_comments'].append('missing')\n",
    "        try:\n",
    "            d['posted_by_user'].append(l.a.text)\n",
    "        except:\n",
    "            d['posted_by_user'].append('missing')\n",
    "    return pd.DataFrame(d)\n",
    "    "
   ]
  },
  {
   "cell_type": "code",
   "execution_count": 0,
   "metadata": {
    "colab": {},
    "colab_type": "code",
    "id": "YjGrRxijVaKL"
   },
   "outputs": [],
   "source": [
    "extract_web"
   ]
  },
  {
   "cell_type": "markdown",
   "metadata": {
    "colab_type": "text",
    "id": "L9jr0vcx96BN"
   },
   "source": [
    "extracting text from url "
   ]
  },
  {
   "cell_type": "markdown",
   "metadata": {},
   "source": [
    "# Task 2 :For each url, extract the full article from its respective website.\n",
    "# Add this as a new column to the same dataframe created in the above task.\n",
    "# Note: You may ignore the website articles which require dynamic webscraping for now.\n",
    "# You need to document the reason in case if you’ve failed to collect the data for any website."
   ]
  },
  {
   "cell_type": "code",
   "execution_count": 0,
   "metadata": {
    "colab": {},
    "colab_type": "code",
    "id": "4rNODgi6Ujc2"
   },
   "outputs": [],
   "source": [
    "def extract_para(i):\n",
    "    para =[]\n",
    "    try:\n",
    "        html = url.urlopen(i).read()\n",
    "        soup = bs(html,'html.parser')\n",
    "        for j in soup.find_all('p'):\n",
    "            para.append(j.text)\n",
    "        return(\" \".join(para))\n",
    "    except:\n",
    "        para.append('Website is not giving access')\n",
    "        return para[0]"
   ]
  },
  {
   "cell_type": "code",
   "execution_count": 0,
   "metadata": {
    "colab": {},
    "colab_type": "code",
    "id": "nk75z8F4UjdB"
   },
   "outputs": [],
   "source": [
    "a=[]\n",
    "for i in list1:\n",
    "    a.append(extract_web(i))\n",
    "temp=pd.concat(a,ignore_index=True)"
   ]
  },
  {
   "cell_type": "code",
   "execution_count": 0,
   "metadata": {
    "colab": {
     "base_uri": "https://localhost:8080/",
     "height": 1000
    },
    "colab_type": "code",
    "id": "egKILETDgarM",
    "outputId": "19245c44-6d40-4e98-e3da-4f14516c0428"
   },
   "outputs": [
    {
     "data": {
      "text/plain": [
       "[                                                title  ...   posted_by_user\n",
       " 0                                      Lead Recruiter  ...     viralchauhan\n",
       " 1   Communications device offers bandwidth potenti...  ...  peter_d_sherman\n",
       " 2   Debugging Splunk App/Add-On Using Python Debug...  ...        khushbu_m\n",
       " 3               Elon Musk: Man of the Year (ciol.com)  ...          aspen97\n",
       " 4   Hotstar's India Watch Report 2019[pdf] (hotsta...  ...         manojlds\n",
       " 5   Best Macbook Pro 16 alternatives (search tool)...  ...           imohds\n",
       " 6   How to perform exception handling in Python wi...  ...        khushbu_m\n",
       " 7   Twitter will preserve JPEGs as they are encode...  ...      el_duderino\n",
       " 8   UK General election Ads are 'indecent, dishone...  ...         strainer\n",
       " 9        “Link In Bio” is a slow knife (anildash.com)  ...     rahuldottech\n",
       " 10         Portal (Interactive Novel) (wikipedia.org)  ...  peter_d_sherman\n",
       " 11  US senators threaten Apple with encryption reg...  ...       LogicRiver\n",
       " 12  What Happens to Your Body with Keto Cycling (n...  ...        bdev12345\n",
       " 13  ICANN delays .Org sale approval, calls for mor...  ...     patrickdavey\n",
       " 14  Show HN: Apijack – API of All Trades (apijack....  ...        pinehqcom\n",
       " 15  Eastern Ruapehu Lahar Alarm and Warning System...  ...      EdwardDiego\n",
       " 16  Show HN: Prray – “Promisified” Array in JS/TS ...  ...          benbbbb\n",
       " 17  Double eureka: Breakthroughs could lead to qua...  ...          dkoston\n",
       " 18  What the Internet Can Learn from the Printing ...  ...         Osiris30\n",
       " 19  Plundervolt: Software-Based Fault Injection At...  ...          xucheng\n",
       " 20  Creating the Ultimate ThinkPad T420 (aceparent...  ...        catacombs\n",
       " 21                   What Counts as Work? (lrb.co.uk)  ...         vo2maxer\n",
       " 22      What Happens in the Dark Knight (aaronsw.com)  ...          krtkush\n",
       " 23  Exclusion of black American women from physics...  ...          tkdc926\n",
       " 24  The Day Jeff Bezos Gave an Amazon Employee Ext...  ...           jkuria\n",
       " 25  The Growing Challenges of 5G Reliability (semi...  ...            Lind5\n",
       " 26  CNN – More big honkin' hard drives in 1999 – J...  ...     rahuldottech\n",
       " 27  Patch Tuesday, December 2019 Edition (krebsons...  ...           feross\n",
       " 28  Most active newsgroups 1987 – Guess the top three  ...        yesenadam\n",
       " 29  AMD EPYC 7742 Benchmarks and Review Simply Pee...  ...           bhauer\n",
       " \n",
       " [30 rows x 7 columns],\n",
       "                                                 title  ... posted_by_user\n",
       " 0                 From Zero to Published (medium.com)  ...          h_amg\n",
       " 1   Exercise advice on food labels could help to t...  ...      pseudolus\n",
       " 2   Maine County Deploys Wide-Area Emergency Publi...  ...           wglb\n",
       " 3   An Implementation of Distributed Acid Transact...  ...        mzweben\n",
       " 4   Economic well-being across generations of youn...  ...        swat535\n",
       " 5   An OpenBSD Desktop Using WindowMaker (tumfatig...  ...       blinskey\n",
       " 6   When is an electrical engineer not an engineer...  ...      pinewurst\n",
       " 7   Samsung making a comeback. China’s Transsion i...  ...      babayega2\n",
       " 8   Cannon-Brookes says Zoox “robot” cars will be ...  ...    clouddrover\n",
       " 9                       Snacknsoda.com Is Up for Sale  ...    skadimoolam\n",
       " 10                         Toyota War (wikipedia.org)  ...         arbuge\n",
       " 11  Craft Your Product Team at Every Stage,from Pr...  ...        sunasra\n",
       " 12  Sell/buy groceries (used/unused) from your nei...  ...     nburuchara\n",
       " 13  SockPuppet: A Walkthrough of a Kernel Exploit ...  ...      archimag0\n",
       " 14  Serendipity – A reliable, secure and extensibl...  ...    indigodaddy\n",
       " 15  Twilight Sparkle’s Voice Compromised (kickscon...  ...    kickscondor\n",
       " 16  Developers shouldn’t distribute their own soft...  ...         akalin\n",
       " 17  Why is it hard to prove whether pi plus e is a...  ...       vagab0nd\n",
       " 18  Show HN: Rel. Scheduler,Shortener and Metrics ...  ...   fullstackjob\n",
       " 19   Speeding Up the Rust Compiler (blog.mozilla.org)  ...      staktrace\n",
       " 20  After Years of False Starts, Geffen Hall Is Be...  ...      fortran77\n",
       " 21            En Passant (Chess Move) (wikipedia.org)  ...      glenstein\n",
       " 22  On System Design (2006) [pdf] (scholar.harvard...  ...           kick\n",
       " 23  Thousands of UK political ads went missing fro...  ...         uptown\n",
       " 24  Quantifying the dynamics of failure across sci...  ...   myth_drannon\n",
       " 25  Chunking Optimizations: Let the Knife Do the W...  ...        signa11\n",
       " 26                            Fully Diluted Cap Table  ...    kunaldesai1\n",
       " 27                Le Corbusier in Japan (nytimes.com)  ...          0wl3x\n",
       " 28                   Unsplash for Brands (medium.com)  ...        tumblen\n",
       " 29  CI/CD Pipelines: Monad, Arrow or Dart? (roscid...  ...   LegitGandalf\n",
       " \n",
       " [30 rows x 7 columns],\n",
       "                                                 title  ... posted_by_user\n",
       " 0   Will you buy a color e-reader next year? (good...  ...      kozmonaut\n",
       " 1                   Ask HN: Hacker News API for Auth?  ...          bodka\n",
       " 2   Fancy Console Emulator in C/Python (adamkulidj...  ...         akully\n",
       " 3   Monkey-pig hybrids created by Chinese scientis...  ...         iamben\n",
       " 4       Category:Obsolete occupations (wikipedia.org)  ...           ve55\n",
       " 5   Cancer drug choices tied to drugmaker payouts ...  ...         koolba\n",
       " 6   Strongly-Typed Language Support for InternetSc...  ...          breck\n",
       " 7   Apple’s most expensive Mac Pro costs over $52k...  ...       elsewhen\n",
       " 8   The blood of poor Americans is now a leading e...  ...           cow9\n",
       " 9                                One App (reader.one)  ...      parasite_\n",
       " 10              Tasks to Kaggle Datasets (kaggle.com)  ...        jonbaer\n",
       " 11  Evidence of New X17 Particle Reported, but Sci...  ...       neo4sure\n",
       " 12  AirBnb Dynein: Building an Open-Source Distrib...  ...      yarapavan\n",
       " 13  Markdown Editor Plugin for WordPress (github.com)  ...    terrylinooo\n",
       " 14                   User Agent Changes (vivaldi.com)  ...     CrazedGeek\n",
       " 15  Americans are putting off medical treatment in...  ...       vo2maxer\n",
       " 16  Show HN: Domestica – Manage Your Successful Ho...  ...  inputespresso\n",
       " 17  The Ubuntu 20.04 LTS Pre-Release Survey (ubunt...  ...        reddotX\n",
       " 18  Data science skills that aren't taught – but y...  ...       damjanv1\n",
       " 19   The Best Path a DeepRacer Can Learn (medium.com)  ...      rassoulli\n",
       " 20  Bonkers New Indie Game Lets You Mash Up Differ...  ...          evo_9\n",
       " 21  A Man May Be Big Tech’s Biggest Threat (nytime...  ...       apengwin\n",
       " 22  How to run machine learning at scale–without g...  ...    calebkaiser\n",
       " 23   [dupe] Better password protections in Chrome ...  ...         hongzi\n",
       " 24  New owner of consumer DNA database GEDmatch vo...  ...            mzs\n",
       " 25           Why “Trustparency” Matters (10pines.com)  ...           wslh\n",
       " 26  Dream to Control: Learning Behaviors by Latent...  ...        jonbaer\n",
       " 27  Self-transforming robot blocks can jump, spin,...  ...      Techstark\n",
       " 28  Ask HN: Any suggestions for a better podcast a...  ...   andrewstuart\n",
       " 29    Extraordinary Folkloric NPCs (moltensulfur.com)  ...        kposehn\n",
       " \n",
       " [30 rows x 7 columns],\n",
       "                                                 title  ... posted_by_user\n",
       " 0   Ask HN: What's your experience with online pay...  ...        mastazi\n",
       " 1                             The Deep Sea (neal.fun)  ...           ted0\n",
       " 2   Keybase cancels Stellar token airdrop (keybase...  ...       ceejayoz\n",
       " 3   They Are Nuclear Submarines Under Construction...  ...   vinnyglennon\n",
       " 4   Students, Community Groups Sue University of C...  ...        rhegart\n",
       " 5   Subreddit R/Unpopularopinion: Against the Spir...  ...     infodocket\n",
       " 6   Show HN: Get paid for rewarding your audience ...  ...          ko3us\n",
       " 7   Intel’s SGX coughs up crypto keys when scienti...  ...    1900jwatson\n",
       " 8   Ask HN: What is the ideal language for a cross...  ...  justinzollars\n",
       " 9          Be Kind in Code Review (tylercipriani.com)  ...     thcipriani\n",
       " 10  Data from the International Space Station Conf...  ...     sohkamyung\n",
       " 11  Big Tech Is Under Attack, and Investors Couldn...  ...      drkimball\n",
       " 12           Ask HN: Whatever Happened to EntropyKey?  ...   duelingjello\n",
       " 13  An awesome list of codemods for languages, lib...  ...     rajasegarc\n",
       " 14  Best Practices for Building Containers (cloud....  ...            gfs\n",
       " 15  Ask HN: Any unusual book that helped you in en...  ...     ironschool\n",
       " 16  Introduction to Web Development (2018) (btholt...  ...        henning\n",
       " 17  This was the decade climate change slapped us ...  ...           keyi\n",
       " 18  Lessons Learned from Programming in Go (openso...  ...      rodrigods\n",
       " 19  Oxford Experts Launch New Online Tool to Help ...  ...     infodocket\n",
       " 20               The Gospel of Wealth (wikipedia.org)  ...       moorebrb\n",
       " 21  6 killed in New Jersey gunbattle, including po...  ...    smacktoward\n",
       " 22            Many Turing Machines (greaterwrong.com)  ...       reedwolf\n",
       " 23  Can Genius Win Its Lawsuit Against Google? (ro...  ...  terryauerbach\n",
       " 24  Type 50wpm on iPhone with Morse code Learn too...  ...      blondie9x\n",
       " 25  Where do I put startup code in Elixir? (moosec...  ...    lobo_tuerto\n",
       " 26  LastPass experiencing issues serving logins (l...  ...    emdashcomma\n",
       " 27  $200 for Facebook Interview Questions (rooftop...  ...        sjunlee\n",
       " 28  Phenanthrene derivative PJ34 exclusively eradi...  ...     jaboutboul\n",
       " 29  What we know about you when you click on this ...  ...   rahuldottech\n",
       " \n",
       " [30 rows x 7 columns],\n",
       "                                                 title  ...  posted_by_user\n",
       " 0                          The Lean Web (leanweb.dev)  ...       nottrobin\n",
       " 1   Better password protections in Chrome (googleb...  ...      hbcondo714\n",
       " 2   Show HN: Lightweight differentiable multi-dime...  ...          bwasti\n",
       " 3   Blink XT2 Camera System Command Injection Flaw...  ...          pudsec\n",
       " 4   Man beats AI drone in first race of its kind (...  ...     davidfoster\n",
       " 5                         Online Data Science Program  ...        moayadit\n",
       " 6   Verizon extends deadline for Yahoo Groups shut...  ...   jonah-archive\n",
       " 7                          Sand Theft (wikipedia.org)  ...     2Pacalypse-\n",
       " 8                Looking Back on Chainer (beam2d.net)  ...             tgp\n",
       " 9   GameStop Tumbles After Loss Exceeds Most Pessi...  ...  JumpCrisscross\n",
       " 10  Scandal: U.S. embassy in Cairo is stealing tax...  ...        ahmedaly\n",
       " 11        Firefox Voice Campaign (events.mozilla.org)  ...           remir\n",
       " 12  Dismissing Python Garbage Collection at Instag...  ...   BerislavLopac\n",
       " 13  Science Fiction Author’s Stolen Photo Creates ...  ...         ilamont\n",
       " 14  Plundervolt: An Attack on Intel's SGX (plunder...  ...      throw0101a\n",
       " 15  Three Men Arrested in $722M Cryptocurrency Fra...  ...             mzs\n",
       " 16  Handling Avro Files in Python (perfectlyrandom...  ...      laplacefan\n",
       " 17  Lawsuit Claims Sat and Act Are Illegal in Cali...  ...       johnny313\n",
       " 18  Which Countries to Select for Google Ads (loop...  ...     MasterCode3\n",
       " 19  The vegan condoms keeping sex lives safe – and...  ...     clouddrover\n",
       " 20  Announcing ctr.run: on-demand Docker builds (m...  ...        nderjung\n",
       " 21  Show HN: Cashbar app: your Stripe balance in y...  ...          kulesh\n",
       " 22  AI Software Learns to Make AI Software (techno...  ...      prostoalex\n",
       " 23           Git Push Is the Process (kemitchell.com)  ...      mplanchard\n",
       " 24     Ask HN: How do you document your code at work?  ...           Jaxkr\n",
       " 25  Putting pigs in the shade: the radical farming...  ...    siberianbear\n",
       " 26  Seaplane airline Harbour Air looking at switch...  ...   inferiorhuman\n",
       " 27  Notepad++ v7.8.2: Free Uyghur (notepad-plus-pl...  ...    rahuldottech\n",
       " 28  Native support for WebAuthn and FIDO is finall...  ...           0xCMP\n",
       " 29  IBM's latest supercomputer will be used to bui...  ...  praveenscience\n",
       " \n",
       " [30 rows x 7 columns],\n",
       "                                                 title  ...   posted_by_user\n",
       " 0   IRS Letter Sent to 3.9M People Saved Some Thei...  ...         vo2maxer\n",
       " 1   Surprising Ways to Make Your LinkedIn Profile ...  ...   praveenscience\n",
       " 2      How to Start ReactJS Development Fast (dev.to)  ...   praveenscience\n",
       " 3   Apple's iOS 13.3 update finally lets you disab...  ...           doener\n",
       " 4   One Man Photoshop: Pixlr Is Slick (2008) (wire...  ...          ronilan\n",
       " 5   The supply of fresh water is in trouble as mou...  ...          ciconia\n",
       " 6   Gamma Error in Picture Scaling (ericbrasseur.org)  ...     rahuldottech\n",
       " 7   One Billion Expiring Swiss Francs (2017) (wsj....  ...           robbya\n",
       " 8   Taste the ash, see our pink sun: Sydney's dead...  ...          ciconia\n",
       " 9   Facebook under fire as political ads vanish fr...  ...  annapowellsmith\n",
       " 10  Your Victorian Doctor Is Trying to Kill You (t...  ...         vo2maxer\n",
       " 11  America blows past the world in oil and natura...  ...             nwrk\n",
       " 12  How do you decide which SQA tests or processes...  ...           ohjeez\n",
       " 13  Quitting My Cushy Job to Start a Short Sleeve ...  ...         patwalls\n",
       " 14  Multiple Git vulnerabilities in 2.24 and older...  ...    i_am_not_elon\n",
       " 15            IT Executive Salary Report (medium.com)  ...          arjunha\n",
       " 16  Summary of USMCA provisions regarding digital ...  ...       bitcurious\n",
       " 17  QuÃ©bec Desjardins breach 4Ms bank customers a...  ...           thbr99\n",
       " 18  Attention Cat lovers and D&D fans: Re-imaginin...  ...    i_miss_qbasic\n",
       " 19  Mac Pro Unboxing and Second Impressions: The P...  ...           doener\n",
       " 20  64-bit unix timestamp is not supported in MySQ...  ...    tobyjsullivan\n",
       " 21  Code Search with Cross References for the Andr...  ...       sevlfmeqbc\n",
       " 22  Analyzing the Cost of Your AWS Serverless Func...  ...    kylegalbraith\n",
       " 23  A man who led the war on improper use of apost...  ...   happy-go-lucky\n",
       " 24  D3Wasm: A port of id Tech 4 / Doom 3 engine to...  ...           doener\n",
       " 25  Submit grievances via this form. Get them publ...  ...  tommywiseausmom\n",
       " 26              Visual Subnet Calculator (davidc.net)  ...             etxm\n",
       " 27  GCHQ Stroom: highly scalable data storage, pro...  ...          blopeur\n",
       " 28     Ask HN: Good way to showcase your sideproject?  ...         douglas5\n",
       " 29  Chevron, Facing Fossil Fuels Glut, Takes $10B ...  ...   aaronbrethorst\n",
       " \n",
       " [30 rows x 7 columns],\n",
       "                                                 title  ...  posted_by_user\n",
       " 0   Apple, Facebook Clash with Senators over Encry...  ...            ucha\n",
       " 1   Best Practices for Identifying or Requesting U...  ...          ohjeez\n",
       " 2               Broke Billionaires (sovereignman.com)  ...      skellertor\n",
       " 3   Anatomy of a Decacorn: Tech vs. Biotech (baybr...  ...       aaavl2821\n",
       " 4   An Infinite Descent Into Pure Mathematics (inf...  ...          jgwil2\n",
       " 5   The story behind Amazon’s failed $1 million bi...  ...         jrepinc\n",
       " 6   Men in white vans ‘abducting young girls and s...  ...  codedtestament\n",
       " 7                     Glomar Response (wikipedia.org)  ...    duelingjello\n",
       " 8   Microsoft Releases Teams for Linux (theverge.com)  ...     mindfulhack\n",
       " 9                 Picocli 4.1.2 Released (github.com)  ...         remkop2\n",
       " 10  America and China Are Competing over the Futur...  ...         jonbaer\n",
       " 11  Yes, Fossil Fuel Subsidies Are Real, Destructi...  ...           whack\n",
       " 12  Apple's Pro Display XDR with Nano-Texture Can ...  ...        ceejayoz\n",
       " 13  How to Clean Your Apple Pro Display XDR (suppo...  ...           ingve\n",
       " 14  Why the laws of nature are not inevitable (bac...  ...            chr1\n",
       " 15  Hackers Can Mess with Voltages to Steal Intel ...  ...         jonbaer\n",
       " 16  Amazon, Google, Microsoft: Who Has the Greenes...  ...         jonbaer\n",
       " 17                     Deep Double Descent (youtu.be)  ...        CShorten\n",
       " 18              Filecoin Testnet Mining (filecoin.io)  ...         kicarus\n",
       " 19  SFoundation – A Startup ecosystem powered by d...  ...     sfoundation\n",
       " 20       The Physics of Electric Scooters (spring.so)  ...         vpontis\n",
       " 21  George Laurer, co-inventor of the barcode, die...  ...  happy-go-lucky\n",
       " 22  Maryland real-estate firm hands out $10M in bo...  ...         gshakir\n",
       " 23                The Unwelcomed Story (alhadaqa.com)  ...          feross\n",
       " 24  Merriam-Webster declares ‘they’ its 2019 word ...  ...         tareqak\n",
       " 25  What certifications are good to have and worth...  ...           Xarzu\n",
       " 26  OpenWorld Moves from SF to Las Vegas due to Ex...  ...          rsj_hn\n",
       " 27  Remvoing the Next Generation of Android Malwar...  ...         dantrel\n",
       " 28    This isn't fun anymore (2017) (therandymon.com)  ...         colinhb\n",
       " 29  Building Your First Machine Learning Solution ...  ...  cognitiveosman\n",
       " \n",
       " [30 rows x 7 columns],\n",
       "                                                 title  ...  posted_by_user\n",
       " 0   Harbour Air’s all-electric seaplane makes its ...  ...            duck\n",
       " 1   How to Deploy a Ruby on Rails Application to A...  ...      jasonswett\n",
       " 2              Kernel-Bypass Networking (godaddy.com)  ...          bbowen\n",
       " 3    The Future of War Technology (warontherocks.com)  ...            chat\n",
       " 4   Ask HN: What is the risk of LinkedIn disabling...  ...         ptrenko\n",
       " 5        AQ more important than IQ (bestlifecoach.me)  ...          palebt\n",
       " 6   Ask HN: I have nothing to do at work and it's ...  ...  TurkishPoptart\n",
       " 7   I am a petite and youthful appearing black wom...  ...        vo2maxer\n",
       " 8                  WeakSet in JavaScript (medium.com)  ...             ymd\n",
       " 9   How to manage conflict: reframing your anger (...  ...     anthilemoon\n",
       " 10  Uploaded Ring footage reportedly provides loca...  ...          MBCook\n",
       " 11                   Wails v1.0 Released (github.com)  ...             dcu\n",
       " 12  Customize Your Linux Desktop with FVWM (openso...  ...         jrepinc\n",
       " 13  The Price of Tomorrow: Why Deflation Is the Ke...  ...       kkernahan\n",
       " 14  Underground psychology: researchers have been ...  ...     anthilemoon\n",
       " 15  Send Emails as Attachments in Gmail (googleblo...  ...       Shinkirou\n",
       " 16        Simple Is Funner Than Complex (nkantar.com)  ...           oriel\n",
       " 17                      Plundervolt (plundervolt.com)  ...             0x0\n",
       " 18  Windows Phone 10 support officially ends today...  ...  open-source-ux\n",
       " 19  Ask HN: What is the most interesting algorithm...  ...         apexkid\n",
       " 20  You Need a German Sedan to Break the Cannonbal...  ...        tomohawk\n",
       " 21  Anyone Using the Entrepreneurial Operating Sys...  ...         XnoiVeX\n",
       " 22    ABCL – Common Lisp on the JVM (common-lisp.net)  ...       simonpure\n",
       " 23  Seminar 9: Surya Ganguli – Statistical Physics...  ...         ganzuul\n",
       " 24  China will ban all foreign hardware and softwa...  ...          DrJaws\n",
       " 25  Where Pizza Rat, fake news and art collide the...  ...        eindiran\n",
       " 26  American Trash: How an e-waste sting uncovered...  ...          malshe\n",
       " 27  Cdemi's Curated Newsletter – 10 December 2019 ...  ...           cdemi\n",
       " 28  Irreversible Shift: On the UK's Imminent, Exis...  ...         ArtWomb\n",
       " 29  China's ambassador threatened Faroese prime mi...  ...          jensgk\n",
       " \n",
       " [30 rows x 7 columns],\n",
       "                                                 title  ...   posted_by_user\n",
       " 0   The Pulse Glass – hidden histories and heirloo...  ...          unquote\n",
       " 1   Commonplace books and the illusions of memory ...  ...        drjohnson\n",
       " 2        A Great Wave of Hokusai (smithsonianmag.com)  ...         ordiblah\n",
       " 3                       A Life of Pliny (nytimes.com)  ...         smollett\n",
       " 4   Replicant needs your help to liberate Android ...  ...          jrepinc\n",
       " 5                The Art of City Walking (plough.com)  ...       animalcule\n",
       " 6                 The $100M ARR Club (techcrunch.com)  ...  intheairtonight\n",
       " 7   Show HN: Kong – Physical Cryptocurrency (kong....  ...    ccamrobertson\n",
       " 8              Business Books of 2019 (fivebooks.com)  ...           Anon84\n",
       " 9   Productionizing Distributed XGBoost to Train D...  ...          eaguyhn\n",
       " 10  Git vulnerabilities: overwrite arbitrary paths...  ...        pregnants\n",
       " 11  Linux users identify with their OS more often ...  ...     BryanLunduke\n",
       " 12  The X17 factor: a particle new to physics migh...  ...     goodcanadian\n",
       " 13  Audit of Bolivian elections shows “intentional...  ...            egusa\n",
       " 14                 The Data Ride Alongs (twitter.com)  ...         lmeyerov\n",
       " 15  Tips for Designing Iterable HTTP JSON APIs (or...  ...        orobinson\n",
       " 16  'Smart' Contact Lenses Might Also Monitor Eye ...  ...           smb111\n",
       " 17  Animate a Tesla Cybertruck Using Matplotlib (d...  ...        TedPetrou\n",
       " 18  Oracle Moving OpenWorld to Las Vegas; Cites Co...  ...           SilasX\n",
       " 19  GatesNotes: 5 Books to Enjoy This Winter (gate...  ...         rococode\n",
       " 20  Subword Tokenization – Handling Misspellings a...  ...   stuartaxelowen\n",
       " 21     I Spent a Month Away from My Company (inc.com)  ...  jonawesomegreen\n",
       " 22  Assange: Google Is Not What It Seems (2014) (n...  ...     rahuldottech\n",
       " 23  Citizenship bill puts India on a path to becom...  ...   ashleshbiradar\n",
       " 24  Show HN: Checking the Collatz conjecture using...  ...          robbieo\n",
       " 25  All you need to know about AWS re:Invent in 20...  ...    andreaswittig\n",
       " 26  Make Fast Websites with SSR and Gatsby.js (med...  ...        johncozen\n",
       " 27  A simple facial recognition app built with Fla...  ...          pythops\n",
       " 28  Tide turns for Polish émigrés, lured home by b...  ...    ericdanielski\n",
       " 29  Ambiguity costs clarity; exactitude costs flex...  ...             tobr\n",
       " \n",
       " [30 rows x 7 columns],\n",
       "                                                 title  ...  posted_by_user\n",
       " 0    Google Cloud Packet Mirroring (cloud.google.com)  ...           obenn\n",
       " 1       Ask HN: Should I make a Facebook alternative?  ...         ben85ts\n",
       " 2   Can one earthquake trigger another on the othe...  ...          feross\n",
       " 3   Notion – Productivity Powerhouse Review (arekn...  ...        areknawo\n",
       " 4   Stuart J Mackintosh on his first 100 days as p...  ...          lizmat\n",
       " 5            In Search of Magic – Linear (linear.app)  ...           jorde\n",
       " 6   Would you look at this website, would you just...  ...    ViktorPetrov\n",
       " 7   Managing Kubernetes Infrastructure with .NET a...  ...           hekul\n",
       " 8   Tide turns for Polish émigrés, lured home by b...  ...   ericdanielski\n",
       " 9                    Git v2.24.1 and Others (lwn.net)  ...         eplanit\n",
       " 10                     A Trail of FBI Abuse (wsj.com)  ...       chatmasta\n",
       " 11        The Basecamp Employee Handbook (github.com)  ...      mastar2323\n",
       " 12  How Ford Is Exploring the Quantum World with M...  ...         benryon\n",
       " 13      Introduction to Python Packaging (medium.com)  ...        chinmays\n",
       " 14  “Warrant Clause” an essay on the second part o...  ...  killjoywashere\n",
       " 15  The Most Intelligent Photograph Ever Taken (19...  ...   jorgenveisdal\n",
       " 16  Don't Use Solid or Underlined Text Fields (uxm...  ...      dojosensei\n",
       " 17  Away replaces CEO after investigation (theverg...  ...        ericzawo\n",
       " 18            A Convenient Scapegoat (outlookzen.com)  ...           whack\n",
       " 19  Using Discriminated Unions in C# for Better Er...  ...        tinza123\n",
       " 20  Show HN: A bookmarklet to remove clickgates on...  ...           timar\n",
       " 21  Jisei: The Japanese Death Poem (2013) (japanpo...  ...        benbreen\n",
       " 22  Men’s Sexual Aggression Toward Women: Dehumani...  ...   claudiawerner\n",
       " 23          BaseCamp Employee Handbook (basecamp.com)  ...           dpeck\n",
       " 24  Best SmartThings Light Bulbs 2019 (techuplife....  ...     FoxMulder23\n",
       " 25  Microsoft Teams is now available on Linux (mic...  ...    iamaelephant\n",
       " 26  We made Windows Server Core container images 4...  ...         mmoogle\n",
       " 27  Plundervolt: Software-Based Fault Injection At...  ...      throw0101a\n",
       " 28  Cyber Predator Arrests Double in New Jersey (i...  ...  SalientSapiens\n",
       " 29  Unexpected Page Fault In Virtualized Environme...  ...         btmills\n",
       " \n",
       " [30 rows x 7 columns],\n",
       "                                                 title  ...   posted_by_user\n",
       " 0   Facebook fired an employee who was paid bribes...  ...       coloneltcb\n",
       " 1   CISO Magazine Honors KrebsOnSecurity (krebsons...  ...           feross\n",
       " 2   A small ActivityPub debugging server on Glitch...  ...              Kye\n",
       " 3                     My 2019 Year-in-Review (dev.to)  ...   jumpalottahigh\n",
       " 4   On the Tragedy of Paul Volcker (mattstoller.su...  ...           cjbest\n",
       " 5       What We Get Wrong About Evil (moretothat.com)  ...             LYeo\n",
       " 6   Weird Government Twitter versus Zuck (vicki.su...  ...           cjbest\n",
       " 7                   Add a URL to Google (archive.org)  ...           atum47\n",
       " 8   Three Men Are Charged in $722M Cryptocurrency ...  ...      momentmaker\n",
       " 9   Amazon workers say they’re doing “back-breakin...  ...          0xmohit\n",
       " 10  Safari on iOS 13.3 now supports WebAuthn (twit...  ...       skekaeeeww\n",
       " 11  Unique Dayton Hackerspace to Close This Month ...  ...         bsgamble\n",
       " 12  WireGuard merged to net-next, on its way to Li...  ...     axiomdata316\n",
       " 13  Edge Security on Twitter: “WireGuard has been ...  ...     axiomdata316\n",
       " 14  Exposed Data Shows Where Police Departments Fl...  ...           kushti\n",
       " 15  October Saw Largest Increase in Fed’s Balance ...  ...  baronmunchausen\n",
       " 16  Unpatchable Vulnerability in SF Public Warning...  ...      bradleybuda\n",
       " 17     Who Wrote at Standing Desks? (openculture.com)  ...        keiferski\n",
       " 18  New Plundervolt Attack Impacts Intel CPUs (zdn...  ...           wolfi1\n",
       " 19   Ralph Ellison’s Slow-Burning Art (newyorker.com)  ...       samclemens\n",
       " 20  Slog: Minimal structured logging library for G...  ...           nhooyr\n",
       " 21  FBI warns smart home devices can be used by ha...  ...          MEGMAIL\n",
       " 22                    Pulumi 2.0 Roadmap (pulumi.com)  ...       elasticdog\n",
       " 23  Open source changed everything – again (infowo...  ...           feross\n",
       " 24  Netflix Tests TV-Like 'Watch Now' Experience t...  ...         jmsflknr\n",
       " 25  Ask HN: Should an early stage startup use Kube...  ...   deepakputhraya\n",
       " 26   How to Host Email with Your Own Domain (kevq.uk)  ...             kevq\n",
       " 27         Backblaze Buys Hard Drives (backblaze.com)  ...           robbya\n",
       " 28  ZedRipper: A 16-core Z80 laptop (chrisfenton.com)  ...           pmarin\n",
       " 29  Developer Interview on ObjectBox EdgeX Snap (u...  ...    greenrobot_de\n",
       " \n",
       " [30 rows x 7 columns],\n",
       "                                                 title  ...   posted_by_user\n",
       " 0   Why Cryptocurrencies?: Private Money (whycrypt...  ...             lawn\n",
       " 1   Why Most Psychologists Are Wrong about P-Value...  ...             ned7\n",
       " 2   New NASA eBook Reveals Insights of Earth Seen ...  ...       infodocket\n",
       " 3   ARM and the Long Game Against Intel in the Dat...  ...          Katydid\n",
       " 4   Announcing the 2020 No-Budget Film Contest (me...  ...           enkiv2\n",
       " 5   5 books to read this winter – Bill Gates (gate...  ...      marceee0901\n",
       " 6   Show HN: Lire Vite, a community-driven minimal...  ...           mayas_\n",
       " 7   How to get involved with the space industry (o...  ...         tectonic\n",
       " 8   U.S. senators threaten Facebook, Apple with en...  ...      asimpletune\n",
       " 9   Lessons Learned from Developing ML for Healthc...  ...           theafh\n",
       " 10  Conquering Code Generation in Dart – Part 3: I...  ...    graphicbeacon\n",
       " 11  Ask HN: What Makes Network Solution's DNS Prop...  ...    thrownaway954\n",
       " 12  Using GitHub Actions to Keep Node Dependencies...  ...       ericwooley\n",
       " 13  Cult Followers – is your workplace also a cult...  ...         nixtaken\n",
       " 14  Hundreds of fake McDonald's coffee stickers fo...  ...           edward\n",
       " 15  A tool that finds tech alternatives (beta) (al...  ...           imohds\n",
       " 16  Laravel -A PHP Artisan Framework – Bimford (bi...  ...       wahedshuvo\n",
       " 17  Russian Cows Use VR Headsets to Increase Milk ...  ...            whack\n",
       " 18  ‘Adulting’ is hard. UC Berkeley has a class fo...  ...       incomplete\n",
       " 19     Simple Software Manifesto (arewesimpleyet.org)  ...          Spakman\n",
       " 20  Chinese scientists raise alarm about LCD scree...  ...             hkai\n",
       " 21  Nike Patents a System for Tokenizing Shoes on ...  ...     dadarepublic\n",
       " 22             Requiem for the HMD (highfidelity.com)  ...            jdkee\n",
       " 23  How Much Would One Hour of Battery Storage for...  ...  baronmunchausen\n",
       " 24  Dat Project Is Now the Dat Protocol Foundation...  ...          jboynyc\n",
       " 25   The Guardian XO Exoskeleton [video] (nuadox.com)  ...          finphil\n",
       " 26  EU approves €3.2bn in state aid for battery pr...  ...          reddotX\n",
       " 27   PyTorch Made Available for Rubyists (github.com)  ...         schappim\n",
       " 28      World Magnetic Model 2020 Released (noaa.gov)  ...       infodocket\n",
       " 29              Bohm Dialogue (1991) [pdf] (wisc.edu)  ...              tcj\n",
       " \n",
       " [30 rows x 7 columns],\n",
       "                                                 title  ... posted_by_user\n",
       " 0            New in Chrome 79 (developers.google.com)  ...         feross\n",
       " 1         Ask HN: How are you using Machine Learning?  ...            d-d\n",
       " 2   Docker-slim: Minify your Docker container imag...  ...    LinuxBender\n",
       " 3   Apple Releases iOS and iPadOS 13.3 with Commun...  ...        jackalo\n",
       " 4   Ask HN: Service that checks if my home is online?  ...   andygrunwald\n",
       " 5        Malcolm X Speaks [pdf] (edisciplinas.usp.br)  ...           sova\n",
       " 6   Badger: Learning to Learn Through Multi-Agent ...  ...           ghgr\n",
       " 7   Show HN: BudgetDuo – Pay your share of househo...  ...      hursey013\n",
       " 8       How to Regulate Pornography (firstthings.com)  ...         2a0c40\n",
       " 9   Simple fast payment links via Stripe (payreque...  ...     payrequest\n",
       " 10  SockPuppet: A Walkthrough of a Kernel Exploit ...  ...          ga-vu\n",
       " 11  How does Apple get away with this UI? (twitter...  ...         harikb\n",
       " 12  Announcing WT.Social (Formerly WikiTribune) (r...  ...       doomrobo\n",
       " 13  I Am Sad to Report There Are No More Hot and H...  ...    smacktoward\n",
       " 14  Alberta ignores orphaned oil and gas wells at ...  ...      howard941\n",
       " 15                The Future of Food (azizpabani.com)  ...          apabz\n",
       " 16  Facebook’s ad tools subsidize partisanship (wa...  ...         sapski\n",
       " 17  Leaving the AWS Partner Network (simplethread....  ...   abaldwin7302\n",
       " 18  Microsoft Teams Is the First Office App for Li...  ...    smacktoward\n",
       " 19  Jonathan Bartlett Recalls the Rise and Fall of...  ...  johnnyb_61820\n",
       " 20  Popular web host SiteGround to completely remo...  ...  HN-Censorship\n",
       " 21                   The Rust UI Toolkit (github.com)  ...         feross\n",
       " 22  What happens if you plug more than one charger...  ...          evo_9\n",
       " 23  Canonical Co-Sponsors Windows Subsystem for Li...  ...     CrankyBear\n",
       " 24  I Just Published Taobao API on RapidAPI. Check...  ...      GAGA_MONK\n",
       " 25  Multi-cluster parameterized deployment for Kub...  ...      jaxxstorm\n",
       " 26  Show HN: Iswaac – WebGL 3D software visualizat...  ...         iswaac\n",
       " 27  Founder came back after 8 years to rewrite Fla...  ...         poniko\n",
       " 28  Apple is suing former chief architect of iPhon...  ...      hellofunk\n",
       " 29  Identifying Hate Speech with Bert and CNN (tow...  ...        HIP_HOP\n",
       " \n",
       " [30 rows x 7 columns],\n",
       "                                                 title  ...  posted_by_user\n",
       " 0   A maxed-out Mac Pro will cost you $53,000 – wi...  ...          jquery\n",
       " 1   Amazon: Trump used “improper pressure” to bloc...  ...         rbanffy\n",
       " 2   Free Google Home Mini with Spotify Premium Acc...  ...      alexisdrnt\n",
       " 3   Ask HN: Do you use social logins? if so, which...  ...      sharemywin\n",
       " 4   How NOT to write pandas code (towardsdatascien...  ...         HIP_HOP\n",
       " 5   But wait, there’s more: the psychology of sell...  ...           khehy\n",
       " 6   Greenland’s ice losses have septupled, in line...  ...        vo2maxer\n",
       " 7   Ask HN: How valuable is work experience in China?  ...       mazuka487\n",
       " 8   Slack, Zoom, and the Remote \"Shoulder Tap\" (li...  ...  hrishikesh1990\n",
       " 9   Fly Through a Star-Studded Nebula [video] (nat...  ...          hongzi\n",
       " 10  Exxon wins climate change lawsuit brought by N...  ...          rsj_hn\n",
       " 11  Show HN: GitHub Contributions List Widget for ...  ...           orn0t\n",
       " 12  Sicilian Homes Went to Auction at €1. More Tha...  ...  JumpCrisscross\n",
       " 13  Founder Interview: Aron Meystedt, the first .c...  ...           jmorf\n",
       " 14  Mini 4WD is an electrifying race series for ma...  ...          feross\n",
       " 15  Elon Musk Hits Traffic Pylon with New Cybertru...  ...        jackfoxy\n",
       " 16  Øresund Bridge Transforms into Undersea Tunnel...  ...          hongzi\n",
       " 17     Object Detection: Lessons Learned (medium.com)  ...     andrewtbham\n",
       " 18  Peloton Falls After Citron Sets $5 Target on R...  ...     burger_moon\n",
       " 19  The War That Continues to Shape Russia, 25 Yea...  ...        vo2maxer\n",
       " 20  Documentary: Inside Bill Gates' Brain (netflix...  ...          hongzi\n",
       " 21  Preventing Tracking Prevention Tracking (webki...  ...             om2\n",
       " 22  Modular Finance – GC Fun at Twitch (modularfin...  ...         lladnar\n",
       " 23  Guide to the Dunning Kruger Effect (neilkakkar...  ...      neilkakkar\n",
       " 24  A Better Qt Because of Open Source and KDE (ol...  ...            t4h4\n",
       " 25  We'll donate $500 to charity to interview you ...  ...          nbaum5\n",
       " 26  Cloudy with a chance of neurons: The tools tha...  ...         rbanffy\n",
       " 27                     IETF 106 Highlights (ietf.org)  ...         lladnar\n",
       " 28  Phishing Attack Hijacks Office 365 Accounts Us...  ...        DemiGuru\n",
       " 29  Israeli EV startup using in-wheel motors hits ...  ...           evo_9\n",
       " \n",
       " [30 rows x 7 columns],\n",
       "                                                 title  ...   posted_by_user\n",
       " 0   Media Coverage of Car Crashes Downplays the Ro...  ...         jseliger\n",
       " 1   Pensacola hit with cyberattack hours after sho...  ...      LinuxBender\n",
       " 2   ImTui: Immediate mode text-based user interfac...  ...            ingve\n",
       " 3          TI 990 browser based emulator (js99er.net)  ...         hsnewman\n",
       " 4   Open Source ASR model with only 19M weights (n...  ...           option\n",
       " 5   Belgian child prodigy drops out of university ...  ...        alexwasey\n",
       " 6      Weird Substances: Hagfish Slime (hackaday.com)  ...         moh_maya\n",
       " 7   White Empiricism Undermines General Relativity...  ...          hirundo\n",
       " 8   Ask HN: Ideas for a simple distributed on-call...  ...      caiobegotti\n",
       " 9   ISPs Are Still Taking Advantage of Internet Wi...  ...             dsr_\n",
       " 10  There has never been a better time to start a ...  ...          mooreds\n",
       " 11  Going Serverless with OpenFaaS and Golang – Bu...  ...      MartinHeinz\n",
       " 12       Git from the Inside Out (2015) (recurse.com)  ...            dpeck\n",
       " 13  Attempted Murder for a Domain Name (theverge.com)  ...      niviachanta\n",
       " 14  Event: Conversation with NYT Reporter Mike Isa...  ...      nypressclub\n",
       " 15  We Should Bulldoze the Business School (2018) ...  ...       allovernow\n",
       " 16  Brain Unrolling: Generators and the Sweet Synt...  ...           matt_d\n",
       " 17  Loan Calculator with Java Source Code (browxy....  ...         pabletec\n",
       " 18  Promoters of Climate Anxiety (cliffmass.blogsp...  ...        jashkenas\n",
       " 19                 Customize Your Mac Pro (apple.com)  ...              zdw\n",
       " 20  Using extensions to support pagination in Open...  ...          mooreds\n",
       " 21       Show HN: Shuffling Taxi Rides (linkedin.com)  ...      viralironys\n",
       " 22      Bloomberg Media Acquires CityLab (adweek.com)  ...            danso\n",
       " 23          Kite Autocomplete for Spyder 4 (kite.com)  ...       90litshi99\n",
       " 24  Show HN: Open Stacks – Browse Transparent Tech...  ...           Jthink\n",
       " 25  The unreasonable effectiveness of algorithms i...  ...       jaboutboul\n",
       " 26     Christmas Wish Calligraphy Script (eirify.com)  ...         recent33\n",
       " 27  AMD Adrenalin 2020 drivers to be 12% faster (v...  ...      1900jwatson\n",
       " 28  Ask HN: How to handle database migrations with...  ...             9dev\n",
       " 29        Nova Satellite Mission (exodusorbitals.com)  ...  ExodusOrbitals1\n",
       " \n",
       " [30 rows x 7 columns],\n",
       "                                                 title  ...   posted_by_user\n",
       " 0   Intel: Core i5-9600KF is better than the Ryzen...  ...      1900jwatson\n",
       " 1   New Mobile Compiler and IDE on the Go (browxy....  ...         dbremmen\n",
       " 2   Are the brokers broken? (2008) [pdf] (files.wo...  ...            aazaa\n",
       " 3   Intel Is First to Share Detailed Pay Dispariti...  ...            Geeek\n",
       " 4     [Show HN] E-DNA stole money and project from me  ...       jefferyhus\n",
       " 5   How to know if you’re talking to a wokescold: ...  ...     AngelusNovus\n",
       " 6               Can a Computer Catch a Spy? (npr.org)  ...              mzs\n",
       " 7   SparkBeyond employs an alternative way of appl...  ...          khartig\n",
       " 8   To Decode the Brain, Scientists Automate the S...  ...           theafh\n",
       " 9   A chrome extension to protect your email inbox...  ...       baobatitom\n",
       " 10               Intel Drone Light Show (youtube.com)  ...      devicetray0\n",
       " 11  How to run an emulator on my PC to play The Le...  ...        Ursulaces\n",
       " 12  Apple Pro Display XDR Available to Buy (apple....  ...          jbegley\n",
       " 13  Show HN: Use and pay for just one tool to chat...  ...         wsieroci\n",
       " 14  Underpriced Repo Risks May Push Fed Toward QE4...  ...            aazaa\n",
       " 15  Use of nanoparticles for detection of vascular...  ...        bookofjoe\n",
       " 16  U.S. Says Accused Apple Secrets Thief Had Patr...  ...        protomyth\n",
       " 17  Germany Edges Out Norway as Europe's No. 1 EV ...  ...          reddotX\n",
       " 18  Marie Fredriksson, Swedish Lead Singer of Roxe...  ...         gredelin\n",
       " 19              Fake Meat vs. Real Meat (nytimes.com)  ...        bookofjoe\n",
       " 20  Want a White-Collar Career Without College Deb...  ...        fortran77\n",
       " 21  Citron Research on Peloton Share Price Target ...  ...  atlasunshrugged\n",
       " 22  Predicting a protein's behavior from its appea...  ...        bookofjoe\n",
       " 23  Free WEBINAR Start boosting your career in 202...  ...      IvanBessern\n",
       " 24     Mac Pro Build to Order Options (macrumors.com)  ...           LiweiZ\n",
       " 25  Creating an Open Reviews Ecosystem to Make Ins...  ...    PlantingSpace\n",
       " 26  Bay Area Legoland Holding Contest to Find ‘Mas...  ...             7402\n",
       " 27       Amazon Chime SDK for JavaScript (github.com)  ...       ignoramous\n",
       " 28  Kemal, a lightweight web framework in Crystal ...  ...       whalesalad\n",
       " 29  Do We Need $75,000 a Year to Be Happy? (time.com)  ...       newbristol\n",
       " \n",
       " [30 rows x 7 columns],\n",
       "                                                 title  ...  posted_by_user\n",
       " 0   Whakaari / White Island's Disaster Reminds Us ...  ...       fortran77\n",
       " 1   Got questions about auth? Ask anything about O...  ...      BryanGiese\n",
       " 2   Show HN: Tax loss harvesting tool for crypto i...  ...       wiidude32\n",
       " 3   Developing a Powerlifting Program (workoutwith...  ...       bdev12345\n",
       " 4   Moving on from Ravello End of Life to CloudSha...  ...          cobano\n",
       " 5   Object-recognition dataset stumped the world’s...  ...           dmayo\n",
       " 6   Dear Netflix: What Makes Movies Great? (medium...  ...            mgh2\n",
       " 7                         OpenLayers (openlayers.org)  ...     devicetray0\n",
       " 8   Proji: A fast and powerful project scaffolding...  ...         nikoksr\n",
       " 9               A Tale of Two Bigots (outlookzen.com)  ...           whack\n",
       " 10  From mgo to mongo-driver: Migration to the Mon...  ...         chaknam\n",
       " 11       “Link in Bio” is a slow knife (anildash.com)  ...         jbegley\n",
       " 12  Who got 2019's marketing predictions right – a...  ...        sbachman\n",
       " 13  SoftBank Is Selling Wag Stake Back to Company ...  ...           kgwgk\n",
       " 14  Conway's Game of Life Built in Baba Is You (yo...  ...    commandertso\n",
       " 15                    Apple (Artwork) (wikipedia.org)  ...    tintinnabula\n",
       " 16  How to interpret your medical tests' numbers (...  ...       bookofjoe\n",
       " 17  Ask HN: What information do you consider knowl...  ...  dragosbulugean\n",
       " 18  Retailers Don’t Like Paying the Fees for Apple...  ...      hourislate\n",
       " 19  The History of Quake with Tim Willits (youtube...  ...           doppp\n",
       " 20  A Material Dev.to Client on 6 Platforms with 1...  ...       cascademe\n",
       " 21  Use of a personal safety signal may diminish a...  ...       bookofjoe\n",
       " 22  Life Expectancy Is Decreasing Across All Racia...  ...         stopads\n",
       " 23  Evolution of Penfield's homunculus from past t...  ...       bookofjoe\n",
       " 24  How will we store data 100 years from now? (de...  ...           sloka\n",
       " 25  Americans keep gorging on debt, thanks to the ...  ...         jameslk\n",
       " 26  Show HN: Listenbox ‒ Pocket for audio (listenb...  ...         meoyawn\n",
       " 27  Thieves Are Using Bluetooth to Target Vehicle ...  ...     cowsandmilk\n",
       " 28  Predicting Sex-Specific Suicide Risk in Denmar...  ...       bookofjoe\n",
       " 29  SoftBank Is Selling Wag Stake Back to Company ...  ...             xrd\n",
       " \n",
       " [30 rows x 7 columns],\n",
       "                                                 title  ...   posted_by_user\n",
       " 0   Ice loss from Greenland close to IPCC’s high-e...  ...          itcrowd\n",
       " 1   The Conundrum of Lucien Freud's Portraits (the...  ...      apollinaire\n",
       " 2               Price tracking apps for Apple devices  ...      alexsexotic\n",
       " 3       Samba Releases Security Updates (us-cert.gov)  ...         hsnewman\n",
       " 4   WebAssembly Hub to Build and Share Customizati...  ...      cloudytoday\n",
       " 5   SoftBank takes loss in Sale of another unicorn...  ...        giacaglia\n",
       " 6   Crop Image and Video, Extract Audio and Video;...  ...          Arnadus\n",
       " 7   Illinois Families Sue TikTok over Data Practic...  ...         avocado4\n",
       " 8   The impact of that first repository: Winners o...  ...    i_am_not_elon\n",
       " 9   Tracking Patreon’s March to 4M Patrons, $1B in...  ...            Gedxx\n",
       " 10  HubSpot data reporting – an unsolvable problem...  ...           Zdenal\n",
       " 11  Open-Source Satellite Propulsion Hack Chat (ha...  ...            Gedxx\n",
       " 12  Cloud Run fully managed: 8 new production-read...  ...           steren\n",
       " 13  Smash Mouth’s All Star Played on Melons (youtu...  ...           ohjeez\n",
       " 14         Apple Mac Pro Available to Buy (apple.com)  ...       FireBeyond\n",
       " 15  Internationalization in Angular v9 with angula...  ...       ninjasquad\n",
       " 16  How to Make 1b from a Single Product in Nigeri...  ...  calebmontiveros\n",
       " 17                     Why Python? (linuxjournal.com)  ...         dheepakg\n",
       " 18              Tips for Chrome DevTools (medium.com)  ...  augustnmonteiro\n",
       " 19  B.C. seaplane company set to test the first co...  ...        Tiktaalik\n",
       " 20                    Let’s Fly (2014) (craigmod.com)  ...            Tomte\n",
       " 21  Farmers are waking up on climate change (polit...  ...          elorant\n",
       " 22  Self-healing, shape-shifting hydrogel behaves ...  ...          elorant\n",
       " 23                              SatNOGS (satnogs.org)  ...            Tomte\n",
       " 24  Show HN: Tools to help manage small businesses...  ...     kashgoudarzi\n",
       " 25  Applications Are Now Open for YC Startup Schoo...  ...          erohead\n",
       " 26                 Search Quality at Cliqz (0x65.dev)  ...        martinlaz\n",
       " 27  Patch, or Your Solid State Drives Roll over an...  ...       slowhand09\n",
       " 28  After Bone Marrow Transplant, Man’s Semen Cont...  ...           csomar\n",
       " 29  Soundness bugs in Rust libraries: can't live w...  ...            brson\n",
       " \n",
       " [30 rows x 7 columns],\n",
       "                                                 title  ...  posted_by_user\n",
       " 0   Open Sourced: The hidden consequences of tech,...  ...       jbredeche\n",
       " 1          Magic Leap for Enterprises (magicleap.com)  ...    karanganesan\n",
       " 2   India offering citizenship on the basis of rel...  ...    ghoshbishakh\n",
       " 3   The gene-based hack that is revolutionizing ep...  ...        vo2maxer\n",
       " 4   Apple Mac Pro is now available to buy (apple.com)  ...            redm\n",
       " 5   Ask HN: What are your favourite research paper...  ...        amortize\n",
       " 6   Nested API Parameter Validation in Rails with ...  ...     tothpeter08\n",
       " 7             How to Loop in JavaScript (hachibu.net)  ...         hachibu\n",
       " 8    The Verge’s Gadgets of the Decade (theverge.com)  ...     jbernardo95\n",
       " 9   Experience: Clojure helped us recover from bad...  ...         holyjak\n",
       " 10  A Few Cities Have Cornered Innovation Jobs. Ca...  ...      1PlayerOne\n",
       " 11  Things that are illegal to build in most Ameri...  ...      oftenwrong\n",
       " 12        Tumblr: Top for Any Blog (jetblackcode.com)  ...     kylebonallo\n",
       " 13  Boeing 737 Max Was Plagued with Production Pro...  ...          kaboro\n",
       " 14  Facebook Was Mystery Firm Bidding Against Goog...  ...    partingshots\n",
       " 15  Things that fail in the cloud differently than...  ...         gdeglin\n",
       " 16  Five Cities Account for Vast Majority of Growt...  ...          a_band\n",
       " 17    Inside China's High-Tech Dystopia (youtube.com)  ...         daruton\n",
       " 18  Wine build that runs 32-bit Windows applicatio...  ...         coldpie\n",
       " 19  Listen (December 10): Today’s stories in a sho...  ...  cristinaibunea\n",
       " 20  Python Tips and Tricks, You Haven’t Already Se...  ...     MartinHeinz\n",
       " 21  Dissecting the Graphcore IPU Architecture via ...  ...           ingve\n",
       " 22             What Were Dinosaurs For? (nybooks.com)  ...           Hooke\n",
       " 23  The case for growth centers: How to spread tec...  ...           ingve\n",
       " 24  Penetration test laboratory The Test lab 14 la...  ...       srodionov\n",
       " 25  Demystifying nDCG and ERR (opensourceconnectio...  ...       binarymax\n",
       " 26    Is this paralyzing or enabling me? (medium.com)  ...          ozres1\n",
       " 27  With IPv4 space running dry, why are so many o...  ...     LinuxBender\n",
       " 28                  Ask HN: How was Google maps made?  ...  whatitdobooboo\n",
       " 29  Banks work to head off a climate change crash ...  ...   stevemillburg\n",
       " \n",
       " [30 rows x 7 columns],\n",
       "                                                 title  ... posted_by_user\n",
       " 0   New evidence supporting the existence of the h...  ...      bookofjoe\n",
       " 1   Solving a Bank Heist: Follow the Money (kruege...  ...      yarapavan\n",
       " 2   Managing the Linux Kernel at AWS (theregister....  ...    LinuxBender\n",
       " 3   Show HN: Notes app that combines folders and t...  ...    cborenstein\n",
       " 4   Doom 3 with Web Technology (continuation-labs....  ...         doener\n",
       " 5   Don't pay off Ryuk ransomware, warn infoseccer...  ...    LinuxBender\n",
       " 6   Electrical charging overcomes the bouncing bar...  ...      bookofjoe\n",
       " 7             Tips for Beginner Programmers (zeph.co)  ...           mtm7\n",
       " 8   Remembering Paul Volcker: 2005 Speech at Stanf...  ...      yarapavan\n",
       " 9   Bacteriophage nucleus-like compartment shields...  ...      bookofjoe\n",
       " 10  Too Many Eyes: Why Bootstrapped Companies Stop...  ...      arvidkahl\n",
       " 11  A libre interactive Rubik's Cube with a built-...  ...           kick\n",
       " 12  Provable guarantees to break attack-defense cy...  ...         furcyd\n",
       " 13  Apple confirms 16-inch MacBook Pro 'popping' s...  ...         gojomo\n",
       " 14  Unpacking AR Business Models: In-App Purchases...  ...       bolamike\n",
       " 15  Traffic tools help publishers go viral (axios....  ...            hhs\n",
       " 16  The False Promises of Green Materialism (behav...  ...         zzaner\n",
       " 17     Test Driven Advent of Code (gopheracademy.com)  ...      bketelsen\n",
       " 18  Quiz: How Much of the Decade Do You Remember? ...  ...       vo2maxer\n",
       " 19  How to get involved with the space industry (o...  ...       tectonic\n",
       " 20  Living in Extreme Environments Affects the Hum...  ...        ubermon\n",
       " 21  The death of the paper ticket for sporting eve...  ...            hhs\n",
       " 22  Google says it won’t grant Fortnite an exempti...  ...            bdz\n",
       " 23  Two-Year Anniversary of the Athenian Project: ...  ...      nastynate\n",
       " 24  Can a modern website design improve credibilit...  ...         gvidon\n",
       " 25  Diversity initiatives help change the face of ...  ...      fortran77\n",
       " 26  Utah’s governor wants every school to have a c...  ...      fortran77\n",
       " 27  Tor 0.4.2.5 released (first stable build in 0....  ...    LinuxBender\n",
       " 28  Pensacola Hit by Cyberattack Days After Shooti...  ...      fortran77\n",
       " 29  Inside the Mind of a Productivity Master (supe...  ...          razin\n",
       " \n",
       " [30 rows x 7 columns],\n",
       "                                                 title  ...  posted_by_user\n",
       " 0   What makes dual-career couples work or not (mi...  ...      sarapeyton\n",
       " 1   ReadyMedia (Former MiniDLNA) Docker Image (git...  ...          vladgh\n",
       " 2             Code Surfer – Rad Code Slides (pomb.us)  ...          pomber\n",
       " 3   'Hackable' karaoke and walkie talkie toys foun...  ...     LinuxBender\n",
       " 4   Show HN: An online version of the “tree” comma...  ...         nfriend\n",
       " 5   Ask HN: What system do you use to track profes...  ...  digitalsanctum\n",
       " 6   Working at Equinox: “It's Very 'Hunger Games'”...  ...       bookofjoe\n",
       " 7                                 I, Pencil (fee.org)  ...      slowhand09\n",
       " 8   Japanese Unicorn Preferred Networks Migrates I...  ...         Yuqing7\n",
       " 9                             How RL Works (rl.works)  ...       EvgeniyZh\n",
       " 10  Transforming deposition-grown bilayer graphene...  ...       bookofjoe\n",
       " 11  Should We Be Thinking of APIs in a More Polygl...  ...    PretzelFisch\n",
       " 12  Over 750k applications for US birth certificat...  ...     LinuxBender\n",
       " 13  Electrical and optical control of single spins...  ...       bookofjoe\n",
       " 14  Debugging Variables with Watchpoints in Firefo...  ...      skellertor\n",
       " 15  Online Luggage Startup Away Says CEO Is Steppi...  ...         nsedlet\n",
       " 16  How to Update a Docker Container Using Raspber...  ...         chaknam\n",
       " 17  Ask HN: How do you keep track of your home mai...  ...         jypepin\n",
       " 18  Wheels redesigns its shareable e-bikes to incl...  ...        melvinmt\n",
       " 19       Review: Apple MacBook Pro (2019) (wired.com)  ...   ryanmccullagh\n",
       " 20  Checkout this new car comparison tool (countle...  ...   countlesscars\n",
       " 21  The Unspoken History of the Electric Car (glob...  ...        molteanu\n",
       " 22  Global IC Sales Continue Their Dive (eetimes.com)  ...        JoachimS\n",
       " 23  Report of the Stanford workshop on network buf...  ...           fanf2\n",
       " 24  TSMC Revenues Up in November, UMC and Vis Down...  ...        JoachimS\n",
       " 25  AWS blames Trump for its loss in the Jedi bid ...  ...            grej\n",
       " 26  Easily Create Multi-User Augmented Reality Exp...  ...      maxxfrazer\n",
       " 27  Microsoft Teams is now available on Linux (mic...  ...           logix\n",
       " 28  How to run a build script with Terraform (adva...  ...          sashee\n",
       " 29  Exxon prevails in climate-change lawsuit (lati...  ...       Bostonian\n",
       " \n",
       " [30 rows x 7 columns]]"
      ]
     },
     "execution_count": 8,
     "metadata": {
      "tags": []
     },
     "output_type": "execute_result"
    }
   ],
   "source": [
    "a"
   ]
  },
  {
   "cell_type": "code",
   "execution_count": 0,
   "metadata": {
    "colab": {
     "base_uri": "https://localhost:8080/",
     "height": 181
    },
    "colab_type": "code",
    "id": "eY_ZsfDeUjdF",
    "outputId": "b5bd2567-e888-429d-82e8-28d54857450b"
   },
   "outputs": [
    {
     "name": "stderr",
     "output_type": "stream",
     "text": [
      "Some characters could not be decoded, and were replaced with REPLACEMENT CHARACTER.\n",
      "Some characters could not be decoded, and were replaced with REPLACEMENT CHARACTER.\n",
      "Some characters could not be decoded, and were replaced with REPLACEMENT CHARACTER.\n",
      "Some characters could not be decoded, and were replaced with REPLACEMENT CHARACTER.\n",
      "Some characters could not be decoded, and were replaced with REPLACEMENT CHARACTER.\n",
      "Some characters could not be decoded, and were replaced with REPLACEMENT CHARACTER.\n",
      "Some characters could not be decoded, and were replaced with REPLACEMENT CHARACTER.\n",
      "Some characters could not be decoded, and were replaced with REPLACEMENT CHARACTER.\n",
      "Some characters could not be decoded, and were replaced with REPLACEMENT CHARACTER.\n"
     ]
    }
   ],
   "source": [
    "temp['text'] = temp['url'].apply(extract_para)"
   ]
  },
  {
   "cell_type": "markdown",
   "metadata": {
    "colab_type": "text",
    "id": "bxoqHp9D-HHN"
   },
   "source": [
    "Dataframe with text and columns\n"
   ]
  },
  {
   "cell_type": "code",
   "execution_count": 0,
   "metadata": {
    "colab": {
     "base_uri": "https://localhost:8080/",
     "height": 928
    },
    "colab_type": "code",
    "id": "MgWVGrUgUjdJ",
    "outputId": "c5a9590b-e708-4630-a98c-74c28e3ff13b"
   },
   "outputs": [
    {
     "data": {
      "text/html": [
       "<div>\n",
       "<style scoped>\n",
       "    .dataframe tbody tr th:only-of-type {\n",
       "        vertical-align: middle;\n",
       "    }\n",
       "\n",
       "    .dataframe tbody tr th {\n",
       "        vertical-align: top;\n",
       "    }\n",
       "\n",
       "    .dataframe thead th {\n",
       "        text-align: right;\n",
       "    }\n",
       "</style>\n",
       "<table border=\"1\" class=\"dataframe\">\n",
       "  <thead>\n",
       "    <tr style=\"text-align: right;\">\n",
       "      <th></th>\n",
       "      <th>title</th>\n",
       "      <th>domain</th>\n",
       "      <th>url</th>\n",
       "      <th>date_created</th>\n",
       "      <th>num_upvotes</th>\n",
       "      <th>num_comments</th>\n",
       "      <th>posted_by_user</th>\n",
       "      <th>text</th>\n",
       "    </tr>\n",
       "  </thead>\n",
       "  <tbody>\n",
       "    <tr>\n",
       "      <th>0</th>\n",
       "      <td>Working with Azure Application Insights in You...</td>\n",
       "      <td>(react.christmas)</td>\n",
       "      <td>https://react.christmas/2019/11</td>\n",
       "      <td>2 minutes ago</td>\n",
       "      <td>1 point</td>\n",
       "      <td>discuss</td>\n",
       "      <td>selbekk</td>\n",
       "      <td>A 4 minute read written bySondre Widmark and M...</td>\n",
       "    </tr>\n",
       "    <tr>\n",
       "      <th>1</th>\n",
       "      <td>A universal tech code of conduct (parkersoftwa...</td>\n",
       "      <td>(parkersoftware.com)</td>\n",
       "      <td>https://www.parkersoftware.com/blog/a-universa...</td>\n",
       "      <td>3 minutes ago</td>\n",
       "      <td>3 points</td>\n",
       "      <td>discuss</td>\n",
       "      <td>roxyabercrombie</td>\n",
       "      <td>Don’t make technical assumptions. Don’t back-s...</td>\n",
       "    </tr>\n",
       "    <tr>\n",
       "      <th>2</th>\n",
       "      <td>Scolp: Streaming Column Printer for Python (Ne...</td>\n",
       "      <td>(github.com)</td>\n",
       "      <td>https://github.com/davidohana/python-scolp</td>\n",
       "      <td>4 minutes ago</td>\n",
       "      <td>1 point</td>\n",
       "      <td>discuss</td>\n",
       "      <td>davidoh</td>\n",
       "      <td>GitHub is home to over 40 million developers w...</td>\n",
       "    </tr>\n",
       "    <tr>\n",
       "      <th>3</th>\n",
       "      <td>Thinking in React Hooks (wattenberger.com)</td>\n",
       "      <td>(wattenberger.com)</td>\n",
       "      <td>https://wattenberger.com/blog/react-hooks</td>\n",
       "      <td>5 minutes ago</td>\n",
       "      <td>1 point</td>\n",
       "      <td>discuss</td>\n",
       "      <td>mariuz</td>\n",
       "      <td></td>\n",
       "    </tr>\n",
       "    <tr>\n",
       "      <th>4</th>\n",
       "      <td>Startup School Winter 2020 (ycombinator.com)</td>\n",
       "      <td>(ycombinator.com)</td>\n",
       "      <td>https://blog.ycombinator.com/announcing-startu...</td>\n",
       "      <td>7 minutes ago</td>\n",
       "      <td>2 points</td>\n",
       "      <td>discuss</td>\n",
       "      <td>bithavoc</td>\n",
       "      <td>Website is not giving access</td>\n",
       "    </tr>\n",
       "    <tr>\n",
       "      <th>...</th>\n",
       "      <td>...</td>\n",
       "      <td>...</td>\n",
       "      <td>...</td>\n",
       "      <td>...</td>\n",
       "      <td>...</td>\n",
       "      <td>...</td>\n",
       "      <td>...</td>\n",
       "      <td>...</td>\n",
       "    </tr>\n",
       "    <tr>\n",
       "      <th>625</th>\n",
       "      <td>Apple Mac Pro Available to Buy (apple.com)</td>\n",
       "      <td>(apple.com)</td>\n",
       "      <td>https://www.apple.com/shop/buy-mac/mac-pro</td>\n",
       "      <td>16 hours ago</td>\n",
       "      <td>115 points</td>\n",
       "      <td>212 comments</td>\n",
       "      <td>FireBeyond</td>\n",
       "      <td>More ways to shop: Visit an Apple Store, call ...</td>\n",
       "    </tr>\n",
       "    <tr>\n",
       "      <th>626</th>\n",
       "      <td>Internationalization in Angular v9 with angula...</td>\n",
       "      <td>(ninja-squad.com)</td>\n",
       "      <td>https://blog.ninja-squad.com/2019/12/10/angula...</td>\n",
       "      <td>16 hours ago</td>\n",
       "      <td>2 points</td>\n",
       "      <td>discuss</td>\n",
       "      <td>ninjasquad</td>\n",
       "      <td>Some great progress has been made on the i18n ...</td>\n",
       "    </tr>\n",
       "    <tr>\n",
       "      <th>627</th>\n",
       "      <td>How to Make 1b from a Single Product in Nigeri...</td>\n",
       "      <td>(medium.com)</td>\n",
       "      <td>https://medium.com/@drola/how-to-make-1bn-from...</td>\n",
       "      <td>16 hours ago</td>\n",
       "      <td>2 points</td>\n",
       "      <td>discuss</td>\n",
       "      <td>calebmontiveros</td>\n",
       "      <td>Website is not giving access</td>\n",
       "    </tr>\n",
       "    <tr>\n",
       "      <th>628</th>\n",
       "      <td>Why Python? (linuxjournal.com)</td>\n",
       "      <td>(linuxjournal.com)</td>\n",
       "      <td>https://www.linuxjournal.com/article/3882</td>\n",
       "      <td>16 hours ago</td>\n",
       "      <td>3 points</td>\n",
       "      <td>discuss</td>\n",
       "      <td>dheepakg</td>\n",
       "      <td>My first look at Python was an accident,\\nand ...</td>\n",
       "    </tr>\n",
       "    <tr>\n",
       "      <th>629</th>\n",
       "      <td>Tips for Chrome DevTools (medium.com)</td>\n",
       "      <td>(medium.com)</td>\n",
       "      <td>https://medium.com/@augustnmonteiro/how-to-use...</td>\n",
       "      <td>16 hours ago</td>\n",
       "      <td>4 points</td>\n",
       "      <td>discuss</td>\n",
       "      <td>augustnmonteiro</td>\n",
       "      <td>Website is not giving access</td>\n",
       "    </tr>\n",
       "  </tbody>\n",
       "</table>\n",
       "<p>630 rows × 8 columns</p>\n",
       "</div>"
      ],
      "text/plain": [
       "                                                 title  ...                                               text\n",
       "0    Working with Azure Application Insights in You...  ...  A 4 minute read written bySondre Widmark and M...\n",
       "1    A universal tech code of conduct (parkersoftwa...  ...  Don’t make technical assumptions. Don’t back-s...\n",
       "2    Scolp: Streaming Column Printer for Python (Ne...  ...  GitHub is home to over 40 million developers w...\n",
       "3           Thinking in React Hooks (wattenberger.com)  ...                                                   \n",
       "4         Startup School Winter 2020 (ycombinator.com)  ...                       Website is not giving access\n",
       "..                                                 ...  ...                                                ...\n",
       "625         Apple Mac Pro Available to Buy (apple.com)  ...  More ways to shop: Visit an Apple Store, call ...\n",
       "626  Internationalization in Angular v9 with angula...  ...  Some great progress has been made on the i18n ...\n",
       "627  How to Make 1b from a Single Product in Nigeri...  ...                       Website is not giving access\n",
       "628                     Why Python? (linuxjournal.com)  ...  My first look at Python was an accident,\\nand ...\n",
       "629              Tips for Chrome DevTools (medium.com)  ...                       Website is not giving access\n",
       "\n",
       "[630 rows x 8 columns]"
      ]
     },
     "execution_count": 13,
     "metadata": {
      "tags": []
     },
     "output_type": "execute_result"
    }
   ],
   "source": [
    "temp\n",
    "    "
   ]
  },
  {
   "cell_type": "code",
   "execution_count": 0,
   "metadata": {
    "colab": {},
    "colab_type": "code",
    "id": "zJmxqfGIk9n3"
   },
   "outputs": [],
   "source": [
    "temp.to_csv('text.csv',index=False)"
   ]
  },
  {
   "cell_type": "markdown",
   "metadata": {},
   "source": [
    "# TASK-III (10 Marks)\n",
    "# i. Perform Topic Modelling on the collected text articles. (5 Marks)\n",
    "# ii. Name the topics based on your understanding. (2 Marks)\n",
    "# iii. Display the top 3 article titles for each topic. (3 Marks)\n"
   ]
  },
  {
   "cell_type": "code",
   "execution_count": 0,
   "metadata": {
    "colab": {
     "base_uri": "https://localhost:8080/",
     "height": 55
    },
    "colab_type": "code",
    "id": "3LDfcZfNtXng",
    "outputId": "49d1c43f-40f7-4400-9ebb-fd82e72c1eff"
   },
   "outputs": [
    {
     "data": {
      "text/plain": [
       "'GitHub is home to over 40 million developers working together to host and review code, manage projects, and build software together. \\n              Use Git or checkout with SVN using the web URL.\\n             \\n              Want to be notified of new releases in\\n              davidohana/python-scolp?\\n             If nothing happens, download GitHub Desktop and try again. Go back If nothing happens, download GitHub Desktop and try again. Go back If nothing happens, download Xcode and try again. Go back If nothing happens, download the GitHub extension for Visual Studio and try again. Go back Scolp is Streaming Column Printer for Python 3.6 or later. Scolp let you easily pretty-print masses of tabular data in a streaming fashion - each value is printed when available, without waiting for end of data. It is perfect for apps that need to print progress reports in columns. Main features: Auto-adjusting column width according to the largest value so far or column header width. Control verbosity of printing by: Control format of printed values by: Control alignment of printed values: Control cosmetics of columns (initial width, padding fill char, alignment, and more..) by: Control column title printing style: Easily print row count or time since execution started without need to keep track of those values yourself. Lets start with a simple country statistics output using default settings: Output: (Note how column width is auto adjusting, line breaks are printed automatically after last column, and each value is printed immediately without waiting for end of row) Lets build a program that find prime numbers. We will print the count of primes\\nwe found so far and the last prime found. Output: (Note how the header repeats, the column width auto-expanding and the numbers are aligned to the right) Now, lets change the code of the previous example to add a bit of custom formatting: Output: Lets build an HTTP big-file downloader. Output: Scolp has no 3rd party requirements other than Python 3.6 or later. Scolp is available via PyPi and can be installed using: pip install scolp.'"
      ]
     },
     "execution_count": 15,
     "metadata": {
      "tags": []
     },
     "output_type": "execute_result"
    }
   ],
   "source": [
    "temp['text'][2]"
   ]
  },
  {
   "cell_type": "code",
   "execution_count": 0,
   "metadata": {
    "colab": {},
    "colab_type": "code",
    "id": "ZhvSDzAHUjdN",
    "scrolled": true
   },
   "outputs": [],
   "source": [
    "temp['text']=[text.strip().lower() for text in temp['text']]"
   ]
  },
  {
   "cell_type": "code",
   "execution_count": 0,
   "metadata": {
    "colab": {
     "base_uri": "https://localhost:8080/",
     "height": 55
    },
    "colab_type": "code",
    "id": "FiCJNlMOniCy",
    "outputId": "bc5c7198-973d-4ed7-84c8-465a4cfe3385"
   },
   "outputs": [
    {
     "data": {
      "text/plain": [
       "'github is home to over 40 million developers working together to host and review code, manage projects, and build software together. \\n              use git or checkout with svn using the web url.\\n             \\n              want to be notified of new releases in\\n              davidohana/python-scolp?\\n             if nothing happens, download github desktop and try again. go back if nothing happens, download github desktop and try again. go back if nothing happens, download xcode and try again. go back if nothing happens, download the github extension for visual studio and try again. go back scolp is streaming column printer for python 3.6 or later. scolp let you easily pretty-print masses of tabular data in a streaming fashion - each value is printed when available, without waiting for end of data. it is perfect for apps that need to print progress reports in columns. main features: auto-adjusting column width according to the largest value so far or column header width. control verbosity of printing by: control format of printed values by: control alignment of printed values: control cosmetics of columns (initial width, padding fill char, alignment, and more..) by: control column title printing style: easily print row count or time since execution started without need to keep track of those values yourself. lets start with a simple country statistics output using default settings: output: (note how column width is auto adjusting, line breaks are printed automatically after last column, and each value is printed immediately without waiting for end of row) lets build a program that find prime numbers. we will print the count of primes\\nwe found so far and the last prime found. output: (note how the header repeats, the column width auto-expanding and the numbers are aligned to the right) now, lets change the code of the previous example to add a bit of custom formatting: output: lets build an http big-file downloader. output: scolp has no 3rd party requirements other than python 3.6 or later. scolp is available via pypi and can be installed using: pip install scolp.'"
      ]
     },
     "execution_count": 17,
     "metadata": {
      "tags": []
     },
     "output_type": "execute_result"
    }
   ],
   "source": [
    "temp['text'][2]"
   ]
  },
  {
   "cell_type": "code",
   "execution_count": 0,
   "metadata": {
    "colab": {
     "base_uri": "https://localhost:8080/",
     "height": 55
    },
    "colab_type": "code",
    "id": "ucU_kYLenWbO",
    "outputId": "cd56f7b9-24a3-4916-e7a1-0b3c7fad0483"
   },
   "outputs": [
    {
     "data": {
      "text/plain": [
       "'github is home to over 40 million developers working together to host and review code, manage projects, and build software together. \\n              use git or checkout with svn using the web url.\\n             \\n              want to be notified of new releases in\\n              davidohana/python-scolp?\\n             if nothing happens, download github desktop and try again. go back if nothing happens, download github desktop and try again. go back if nothing happens, download xcode and try again. go back if nothing happens, download the github extension for visual studio and try again. go back scolp is streaming column printer for python 3.6 or later. scolp let you easily pretty-print masses of tabular data in a streaming fashion - each value is printed when available, without waiting for end of data. it is perfect for apps that need to print progress reports in columns. main features: auto-adjusting column width according to the largest value so far or column header width. control verbosity of printing by: control format of printed values by: control alignment of printed values: control cosmetics of columns (initial width, padding fill char, alignment, and more..) by: control column title printing style: easily print row count or time since execution started without need to keep track of those values yourself. lets start with a simple country statistics output using default settings: output: (note how column width is auto adjusting, line breaks are printed automatically after last column, and each value is printed immediately without waiting for end of row) lets build a program that find prime numbers. we will print the count of primes\\nwe found so far and the last prime found. output: (note how the header repeats, the column width auto-expanding and the numbers are aligned to the right) now, lets change the code of the previous example to add a bit of custom formatting: output: lets build an http big-file downloader. output: scolp has no 3rd party requirements other than python 3.6 or later. scolp is available via pypi and can be installed using: pip install scolp.'"
      ]
     },
     "execution_count": 18,
     "metadata": {
      "tags": []
     },
     "output_type": "execute_result"
    }
   ],
   "source": [
    "re.sub('’', \"\", temp['text'][2])"
   ]
  },
  {
   "cell_type": "code",
   "execution_count": 0,
   "metadata": {
    "colab": {},
    "colab_type": "code",
    "id": "qPRHaWGQwloy"
   },
   "outputs": [],
   "source": [
    "data=temp.copy()"
   ]
  },
  {
   "cell_type": "code",
   "execution_count": 0,
   "metadata": {
    "colab": {},
    "colab_type": "code",
    "id": "d6SAGGOfwqUY"
   },
   "outputs": [],
   "source": [
    "##function for removing all sysmbols "
   ]
  },
  {
   "cell_type": "code",
   "execution_count": 0,
   "metadata": {
    "colab": {},
    "colab_type": "code",
    "id": "6nh7VPdlwrdl"
   },
   "outputs": [],
   "source": [
    "def scrub_words(text):\n",
    "    text = re.sub('’', \"'\", text)\n",
    "    \n",
    "    text = re.sub('\\xa0', ' ', text)\n",
    "    \n",
    "    \n",
    "    text = re.sub(\"(\\\\W|\\\\d)\",' ',text)\n",
    "    \n",
    "   \n",
    "    text = re.sub('\\n(\\w*?)[\\s]', '', text)\n",
    "    \n",
    "    \n",
    "    text = re.sub(\"<.*?>\", ' ', text)\n",
    "    \n",
    "  \n",
    "    text = re.sub(\"\\s+\", ' ', text)\n",
    "    return text"
   ]
  },
  {
   "cell_type": "code",
   "execution_count": 0,
   "metadata": {
    "colab": {},
    "colab_type": "code",
    "id": "iBGXvTlMxwe9"
   },
   "outputs": [],
   "source": [
    "data['text'] = [scrub_words(text) for text in data['text']]"
   ]
  },
  {
   "cell_type": "code",
   "execution_count": 0,
   "metadata": {
    "colab": {
     "base_uri": "https://localhost:8080/",
     "height": 55
    },
    "colab_type": "code",
    "id": "ypLxhD6Jx68u",
    "outputId": "9f769f73-58a6-44ef-b28c-4af942c71673"
   },
   "outputs": [
    {
     "data": {
      "text/plain": [
       "'github is home to over million developers working together to host and review code manage projects and build software together use git or checkout with svn using the web url want to be notified of new releases in davidohana python scolp if nothing happens download github desktop and try again go back if nothing happens download github desktop and try again go back if nothing happens download xcode and try again go back if nothing happens download the github extension for visual studio and try again go back scolp is streaming column printer for python or later scolp let you easily pretty print masses of tabular data in a streaming fashion each value is printed when available without waiting for end of data it is perfect for apps that need to print progress reports in columns main features auto adjusting column width according to the largest value so far or column header width control verbosity of printing by control format of printed values by control alignment of printed values control cosmetics of columns initial width padding fill char alignment and more by control column title printing style easily print row count or time since execution started without need to keep track of those values yourself lets start with a simple country statistics output using default settings output note how column width is auto adjusting line breaks are printed automatically after last column and each value is printed immediately without waiting for end of row lets build a program that find prime numbers we will print the count of primes we found so far and the last prime found output note how the header repeats the column width auto expanding and the numbers are aligned to the right now lets change the code of the previous example to add a bit of custom formatting output lets build an http big file downloader output scolp has no rd party requirements other than python or later scolp is available via pypi and can be installed using pip install scolp '"
      ]
     },
     "execution_count": 22,
     "metadata": {
      "tags": []
     },
     "output_type": "execute_result"
    }
   ],
   "source": [
    "data['text'][2]"
   ]
  },
  {
   "cell_type": "code",
   "execution_count": 0,
   "metadata": {
    "colab": {
     "base_uri": "https://localhost:8080/",
     "height": 55
    },
    "colab_type": "code",
    "id": "vlvAnlxHx_Qr",
    "outputId": "1937885c-3543-489a-d306-aa66ac3d04a2"
   },
   "outputs": [
    {
     "data": {
      "text/plain": [
       "'github is home to over 40 million developers working together to host and review code, manage projects, and build software together. \\n              use git or checkout with svn using the web url.\\n             \\n              want to be notified of new releases in\\n              davidohana/python-scolp?\\n             if nothing happens, download github desktop and try again. go back if nothing happens, download github desktop and try again. go back if nothing happens, download xcode and try again. go back if nothing happens, download the github extension for visual studio and try again. go back scolp is streaming column printer for python 3.6 or later. scolp let you easily pretty-print masses of tabular data in a streaming fashion - each value is printed when available, without waiting for end of data. it is perfect for apps that need to print progress reports in columns. main features: auto-adjusting column width according to the largest value so far or column header width. control verbosity of printing by: control format of printed values by: control alignment of printed values: control cosmetics of columns (initial width, padding fill char, alignment, and more..) by: control column title printing style: easily print row count or time since execution started without need to keep track of those values yourself. lets start with a simple country statistics output using default settings: output: (note how column width is auto adjusting, line breaks are printed automatically after last column, and each value is printed immediately without waiting for end of row) lets build a program that find prime numbers. we will print the count of primes\\nwe found so far and the last prime found. output: (note how the header repeats, the column width auto-expanding and the numbers are aligned to the right) now, lets change the code of the previous example to add a bit of custom formatting: output: lets build an http big-file downloader. output: scolp has no 3rd party requirements other than python 3.6 or later. scolp is available via pypi and can be installed using: pip install scolp.'"
      ]
     },
     "execution_count": 23,
     "metadata": {
      "tags": []
     },
     "output_type": "execute_result"
    }
   ],
   "source": [
    "temp['text'][2]"
   ]
  },
  {
   "cell_type": "code",
   "execution_count": 0,
   "metadata": {
    "colab": {
     "base_uri": "https://localhost:8080/",
     "height": 383
    },
    "colab_type": "code",
    "id": "fxVd9n3zyKIf",
    "outputId": "244327f1-fa61-4a57-d531-8527e52849f9"
   },
   "outputs": [
    {
     "name": "stdout",
     "output_type": "stream",
     "text": [
      "Data Type:  <class 'pandas.core.series.Series'>\n",
      "Data Type:  <class 'pandas.core.series.Series'>\n",
      "Length of data:  630\n",
      "Length of data:  630\n",
      "Original data: \n",
      " github is home to over 40 million developers working together to host and review code, manage projects, and build software together. \n",
      "              use git or checkout with svn using the web url.\n",
      "             \n",
      "              want to be notified of new releases in\n",
      "              davidohana/python-scolp?\n",
      "             if nothing happens, download github desktop and try again. go back if nothing happens, download github desktop and try again. go back if nothing happens, download xcode and try again. go back if nothing happens, download the github extension for visual studio and try again. go back scolp is streaming column printer for python 3.6 or later. scolp let you easily pretty-print masses of tabular data in a streaming fashion - each value is printed when available, without waiting for end of data. it is perfect for apps that need to print progress reports in columns. main features: auto-adjusting column width according to the largest value so far or column header width. control verbosity of printing by: control format of printed values by: control alignment of printed values: control cosmetics of columns (initial width, padding fill char, alignment, and more..) by: control column title printing style: easily print row count or time since execution started without need to keep track of those values yourself. lets start with a simple country statistics output using default settings: output: (note how column width is auto adjusting, line breaks are printed automatically after last column, and each value is printed immediately without waiting for end of row) lets build a program that find prime numbers. we will print the count of primes\n",
      "we found so far and the last prime found. output: (note how the header repeats, the column width auto-expanding and the numbers are aligned to the right) now, lets change the code of the previous example to add a bit of custom formatting: output: lets build an http big-file downloader. output: scolp has no 3rd party requirements other than python 3.6 or later. scolp is available via pypi and can be installed using: pip install scolp.\n",
      "\n",
      "\n",
      "**************************************************************************\n",
      "\n",
      "\n",
      "Clean data: \n",
      " github is home to over million developers working together to host and review code manage projects and build software together use git or checkout with svn using the web url want to be notified of new releases in davidohana python scolp if nothing happens download github desktop and try again go back if nothing happens download github desktop and try again go back if nothing happens download xcode and try again go back if nothing happens download the github extension for visual studio and try again go back scolp is streaming column printer for python or later scolp let you easily pretty print masses of tabular data in a streaming fashion each value is printed when available without waiting for end of data it is perfect for apps that need to print progress reports in columns main features auto adjusting column width according to the largest value so far or column header width control verbosity of printing by control format of printed values by control alignment of printed values control cosmetics of columns initial width padding fill char alignment and more by control column title printing style easily print row count or time since execution started without need to keep track of those values yourself lets start with a simple country statistics output using default settings output note how column width is auto adjusting line breaks are printed automatically after last column and each value is printed immediately without waiting for end of row lets build a program that find prime numbers we will print the count of primes we found so far and the last prime found output note how the header repeats the column width auto expanding and the numbers are aligned to the right now lets change the code of the previous example to add a bit of custom formatting output lets build an http big file downloader output scolp has no rd party requirements other than python or later scolp is available via pypi and can be installed using pip install scolp \n"
     ]
    }
   ],
   "source": [
    "print(\"Data Type: \", type(temp['text']))\n",
    "print(\"Data Type: \", type(data['text']))\n",
    "\n",
    "print(\"Length of data: \", len(temp['text']))\n",
    "print(\"Length of data: \", len(data['text']))\n",
    "\n",
    "print(\"Original data: \\n\", temp['text'][2])\n",
    "print(\"\\n\\n**************************************************************************\\n\\n\")\n",
    "print(\"Clean data: \\n\", data['text'][2])"
   ]
  },
  {
   "cell_type": "markdown",
   "metadata": {
    "colab_type": "text",
    "id": "Fuyx4B8m-lfH"
   },
   "source": []
  },
  {
   "cell_type": "code",
   "execution_count": 0,
   "metadata": {
    "colab": {
     "base_uri": "https://localhost:8080/",
     "height": 288
    },
    "colab_type": "code",
    "id": "X5Ae86570EfA",
    "outputId": "db2a148f-26d4-42a8-ec7f-9a271ef249d8"
   },
   "outputs": [
    {
     "data": {
      "text/html": [
       "<div>\n",
       "<style scoped>\n",
       "    .dataframe tbody tr th:only-of-type {\n",
       "        vertical-align: middle;\n",
       "    }\n",
       "\n",
       "    .dataframe tbody tr th {\n",
       "        vertical-align: top;\n",
       "    }\n",
       "\n",
       "    .dataframe thead th {\n",
       "        text-align: right;\n",
       "    }\n",
       "</style>\n",
       "<table border=\"1\" class=\"dataframe\">\n",
       "  <thead>\n",
       "    <tr style=\"text-align: right;\">\n",
       "      <th></th>\n",
       "      <th>word_count</th>\n",
       "    </tr>\n",
       "  </thead>\n",
       "  <tbody>\n",
       "    <tr>\n",
       "      <th>count</th>\n",
       "      <td>630.000000</td>\n",
       "    </tr>\n",
       "    <tr>\n",
       "      <th>mean</th>\n",
       "      <td>786.546032</td>\n",
       "    </tr>\n",
       "    <tr>\n",
       "      <th>std</th>\n",
       "      <td>1171.112462</td>\n",
       "    </tr>\n",
       "    <tr>\n",
       "      <th>min</th>\n",
       "      <td>1.000000</td>\n",
       "    </tr>\n",
       "    <tr>\n",
       "      <th>25%</th>\n",
       "      <td>5.000000</td>\n",
       "    </tr>\n",
       "    <tr>\n",
       "      <th>50%</th>\n",
       "      <td>441.000000</td>\n",
       "    </tr>\n",
       "    <tr>\n",
       "      <th>75%</th>\n",
       "      <td>1035.250000</td>\n",
       "    </tr>\n",
       "    <tr>\n",
       "      <th>max</th>\n",
       "      <td>9578.000000</td>\n",
       "    </tr>\n",
       "  </tbody>\n",
       "</table>\n",
       "</div>"
      ],
      "text/plain": [
       "        word_count\n",
       "count   630.000000\n",
       "mean    786.546032\n",
       "std    1171.112462\n",
       "min       1.000000\n",
       "25%       5.000000\n",
       "50%     441.000000\n",
       "75%    1035.250000\n",
       "max    9578.000000"
      ]
     },
     "execution_count": 25,
     "metadata": {
      "tags": []
     },
     "output_type": "execute_result"
    }
   ],
   "source": [
    "data['word_count'] = [len(text.split(' ')) for text in data['text']]\n",
    "pd.DataFrame(data['word_count']).describe()"
   ]
  },
  {
   "cell_type": "code",
   "execution_count": 0,
   "metadata": {
    "colab": {
     "base_uri": "https://localhost:8080/",
     "height": 266
    },
    "colab_type": "code",
    "id": "fW3h7Fzj0UEX",
    "outputId": "9de81328-09e5-4642-a96b-30a363343026"
   },
   "outputs": [
    {
     "data": {
      "text/html": [
       "<div>\n",
       "<style scoped>\n",
       "    .dataframe tbody tr th:only-of-type {\n",
       "        vertical-align: middle;\n",
       "    }\n",
       "\n",
       "    .dataframe tbody tr th {\n",
       "        vertical-align: top;\n",
       "    }\n",
       "\n",
       "    .dataframe thead th {\n",
       "        text-align: right;\n",
       "    }\n",
       "</style>\n",
       "<table border=\"1\" class=\"dataframe\">\n",
       "  <thead>\n",
       "    <tr style=\"text-align: right;\">\n",
       "      <th></th>\n",
       "      <th>title</th>\n",
       "      <th>domain</th>\n",
       "      <th>url</th>\n",
       "      <th>date_created</th>\n",
       "      <th>num_upvotes</th>\n",
       "      <th>num_comments</th>\n",
       "      <th>posted_by_user</th>\n",
       "      <th>text</th>\n",
       "      <th>word_count</th>\n",
       "    </tr>\n",
       "  </thead>\n",
       "  <tbody>\n",
       "    <tr>\n",
       "      <th>0</th>\n",
       "      <td>Working with Azure Application Insights in You...</td>\n",
       "      <td>(react.christmas)</td>\n",
       "      <td>https://react.christmas/2019/11</td>\n",
       "      <td>2 minutes ago</td>\n",
       "      <td>1 point</td>\n",
       "      <td>discuss</td>\n",
       "      <td>selbekk</td>\n",
       "      <td>a minute read written bysondre widmark and mar...</td>\n",
       "      <td>781</td>\n",
       "    </tr>\n",
       "    <tr>\n",
       "      <th>1</th>\n",
       "      <td>A universal tech code of conduct (parkersoftwa...</td>\n",
       "      <td>(parkersoftware.com)</td>\n",
       "      <td>https://www.parkersoftware.com/blog/a-universa...</td>\n",
       "      <td>3 minutes ago</td>\n",
       "      <td>3 points</td>\n",
       "      <td>discuss</td>\n",
       "      <td>roxyabercrombie</td>\n",
       "      <td>don t make technical assumptions don t back se...</td>\n",
       "      <td>757</td>\n",
       "    </tr>\n",
       "  </tbody>\n",
       "</table>\n",
       "</div>"
      ],
      "text/plain": [
       "                                               title  ... word_count\n",
       "0  Working with Azure Application Insights in You...  ...        781\n",
       "1  A universal tech code of conduct (parkersoftwa...  ...        757\n",
       "\n",
       "[2 rows x 9 columns]"
      ]
     },
     "execution_count": 29,
     "metadata": {
      "tags": []
     },
     "output_type": "execute_result"
    }
   ],
   "source": [
    "data.head(2)"
   ]
  },
  {
   "cell_type": "code",
   "execution_count": 0,
   "metadata": {
    "colab": {},
    "colab_type": "code",
    "id": "kFDtA4cF0x5E"
   },
   "outputs": [],
   "source": [
    "from nltk.stem.snowball import SnowballStemmer\n",
    "\n",
    "stemmer = SnowballStemmer(\"english\")"
   ]
  },
  {
   "cell_type": "markdown",
   "metadata": {
    "colab_type": "text",
    "id": "pqX2A5Nc-p8E"
   },
   "source": [
    "function for tokenize stemming and stopwords"
   ]
  },
  {
   "cell_type": "code",
   "execution_count": 0,
   "metadata": {
    "colab": {},
    "colab_type": "code",
    "id": "hakZUc3Z1kGq"
   },
   "outputs": [],
   "source": [
    "def tokenize_and_stem(doc, remove_stopwords = True):\n",
    "    # first tokenize by sentence, then by word to ensure that punctuation is caught as it's own token\n",
    "    if remove_stopwords:\n",
    "        tokens = [word.text for word in doc if not word.is_stop]\n",
    "    else:\n",
    "        tokens = [word.text for word in doc]\n",
    "\n",
    "    filtered_tokens = []\n",
    "    # filter out any tokens not containing letters (e.g., numeric tokens, raw punctuation)\n",
    "    for token in tokens:\n",
    "        if re.search('[a-zA-Z]', token):\n",
    "            filtered_tokens.append(token)\n",
    "\n",
    "    stems = [stemmer.stem(t) for t in filtered_tokens]\n",
    "    return stems\n",
    "\n",
    "def tokenize_and_lemmatize(doc, remove_stopwords = True):\n",
    "    \n",
    "    if remove_stopwords:\n",
    "        tokens = [word for word in doc if not word.is_stop]\n",
    "    else:\n",
    "        tokens = [word for word in doc]\n",
    "        \n",
    "    filtered_tokens = []\n",
    "    # filter out any tokens not containing letters (e.g., numeric tokens, raw punctuation)\n",
    "    for token in tokens:\n",
    "        if re.search('[a-zA-Z]', token.text):\n",
    "            filtered_tokens.append(token)\n",
    "            \n",
    "    lemma = [t.lemma_ for t in filtered_tokens]\n",
    "    return lemma\n",
    "\n",
    "\n",
    "def tokenize_only(doc, remove_stopwords = True):\n",
    "    \n",
    "    if remove_stopwords:\n",
    "        tokens = [word.text for word in doc if not word.is_stop]\n",
    "    else:\n",
    "        tokens = [word.text for word in doc]\n",
    "    filtered_tokens = []\n",
    "    # filter out any tokens not containing letters (e.g., numeric tokens, raw punctuation)\n",
    "    for token in tokens:\n",
    "        if re.search('[a-zA-Z]', token):\n",
    "            filtered_tokens.append(token)\n",
    "    return filtered_tokens"
   ]
  },
  {
   "cell_type": "code",
   "execution_count": 0,
   "metadata": {
    "colab": {},
    "colab_type": "code",
    "id": "mkOA7ZvA4f7p"
   },
   "outputs": [],
   "source": [
    "import spacy\n",
    "nlp=spacy.load('en_core_web_sm')"
   ]
  },
  {
   "cell_type": "code",
   "execution_count": 0,
   "metadata": {
    "colab": {},
    "colab_type": "code",
    "id": "Fx4524BVX9AC"
   },
   "outputs": [],
   "source": [
    "# !pip install nltk\n",
    "import nltk\n",
    "from nltk import word_tokenize,sent_tokenize\n",
    "from nltk.stem import PorterStemmer,WordNetLemmatizer"
   ]
  },
  {
   "cell_type": "markdown",
   "metadata": {
    "colab_type": "text",
    "id": "iAJgGApS-2KT"
   },
   "source": [
    "converting text in to nlp objects for pre-processing "
   ]
  },
  {
   "cell_type": "code",
   "execution_count": 0,
   "metadata": {
    "colab": {},
    "colab_type": "code",
    "id": "FSWFz_gKeyIk"
   },
   "outputs": [],
   "source": [
    "data['newtext'] = data['text'].apply(nlp)"
   ]
  },
  {
   "cell_type": "code",
   "execution_count": 0,
   "metadata": {
    "colab": {
     "base_uri": "https://localhost:8080/",
     "height": 55
    },
    "colab_type": "code",
    "id": "hi9131xYhcdQ",
    "outputId": "50345440-45cf-4071-e844-235fe76cfab6"
   },
   "outputs": [
    {
     "data": {
      "text/plain": [
       "don t make technical assumptions don t back seat develop don t be a know it all don t sweat the non software stuff these are the universal rules of the tech world when followed everyone benefits junior developer to cto here s why we need a tech code of conduct and how each of these rules help create a positive programming environment with more collaborative spark less snark any tech team is likely to be filled with an eclectic range of skill levels specialities and experience drew earned programming chops through formal education charlie hacked away at home to produce an employable portfolio and that s fine welcome even a mixed team provides a great opportunity for developers to share knowledge and understanding however it also opens the opportunity to make incorrect tech assumptions about what a team member knows or doesn t when this happens communication can break down and important questions go unasked assuming someone knows something can also lead to embarrassment for example drew asks a question and charlie makes a big show of surprise drew why are these laravel methods static charlie wait you don t know how to work with eloquent models this kind of attitude centred around tech assumptions can make your colleagues feel embarrassed or inadequate about not knowing something in turn this discourages them from asking future questions development is all about problem solving and collaboration is integral to solving problems when you overhear a problem you can solve it can be tempting to butt in and offer your solution it s helpful right well no in fact it s the next rule in the tech code of conduct backseat developing is when you interrupt conversations you aren t part of to give advice you weren t asked for sam i m going for this wordpress theme alex wordpress why don t you just build your own cms like backseat driving backseat developing is often incredibly unhelpful you don t have all the information at hand your advice can be incorrect it disturbs other team members when shouted across the room and it belittles the team members discussing the problem but sometimes your advice can be helpful so if you think there s a problem you can help with ask to join the conversation get all the information and include your colleagues in finding the solution doing this shows that you respect other developers knowledge and points of view after all they might have a reason for doing something a certain way whether it s fact or opinion being corrected can be infuriating and belittling in equal measure when chatting with colleagues then it s best to avoid unnecessary corrections and choose your battles wisely overly pedantic team members interrupt the flow of the conversation distract from the main point and steal the attention from the main speaker pat so we ve got this gif for onboarding screen lou erm don t you mean jif of course sometimes it s important that corrections are made to avoid confusion misunderstanding or wasted time so if a colleague gets something wrong question whether the error is relevant to the conversation before you correct them if the mistake could cause later confusion and the point is directly related to the corrected information then you have grounds to politely correct the speaker otherwise don t be an insufferable know it all tensions often run high on the dev floor thanks to looming deadlines ever changing requirements and coding controversy so when things go wrong stress can take over unfortunately stress can make reactions become rash and defensive as emotion drives responses rather than reason emotionally charged responses often cause unnecessary conflicts these conflicts then distract from the development problem at hand jean jamie or something to that effect if it s personal and non product related don t bring it to the development discussion if it is a direct dev problem bad code a bug a security issue then talk about it with a reasoned respectful and logical approach the universal tech code of conduct is best used as a framework to help you keep life on the development floor as conflict free as possible this isn t always easy and the list of directives could be endless these four core points however form the foundation of a more collaborative tech team note we originally published this article here https dzone com articles a universal tech code of conduct parker software all rights reserved uk company registration number vat registration gb "
      ]
     },
     "execution_count": 56,
     "metadata": {
      "tags": []
     },
     "output_type": "execute_result"
    }
   ],
   "source": [
    "data['newtext'][1]"
   ]
  },
  {
   "cell_type": "code",
   "execution_count": 0,
   "metadata": {
    "colab": {},
    "colab_type": "code",
    "id": "71CSd5O6hvKm"
   },
   "outputs": [],
   "source": [
    "data['tokens']=[token.text for token in data['newtext']] "
   ]
  },
  {
   "cell_type": "code",
   "execution_count": 0,
   "metadata": {
    "colab": {
     "base_uri": "https://localhost:8080/",
     "height": 72
    },
    "colab_type": "code",
    "id": "TWbhMVuGiol0",
    "outputId": "2a3edef8-803a-4cf1-f531-0e5019953ecd"
   },
   "outputs": [
    {
     "data": {
      "text/plain": [
       "0    (a, minute, read, written, bysondre, widmark, ...\n",
       "1    (don, t, make, technical, assumptions, don, t,...\n",
       "Name: newtext, dtype: object"
      ]
     },
     "execution_count": 62,
     "metadata": {
      "tags": []
     },
     "output_type": "execute_result"
    }
   ],
   "source": [
    "data.newtext.head(2)"
   ]
  },
  {
   "cell_type": "code",
   "execution_count": 0,
   "metadata": {
    "colab": {},
    "colab_type": "code",
    "id": "8AG_qAfiirtQ"
   },
   "outputs": [],
   "source": [
    "from spacy.lang.en.stop_words import STOP_WORDS"
   ]
  },
  {
   "cell_type": "markdown",
   "metadata": {
    "colab_type": "text",
    "id": "ivM2S2Ed_Lt-"
   },
   "source": [
    "Function for tokenize_and_stem"
   ]
  },
  {
   "cell_type": "code",
   "execution_count": 0,
   "metadata": {
    "colab": {},
    "colab_type": "code",
    "id": "ABeg3Z4HkAy2"
   },
   "outputs": [],
   "source": [
    "def tokenize_and_stem(doc, remove_stopwords = True):\n",
    "    # first tokenize by sentence, then by word to ensure that punctuation is caught as it's own token\n",
    "    if remove_stopwords:\n",
    "        tokens = [word.text for word in doc if not word.is_stop]\n",
    "    else:\n",
    "        tokens = [word.text for word in doc]\n",
    "\n",
    "    filtered_tokens = []\n",
    "    # filter out any tokens not containing letters (e.g., numeric tokens, raw punctuation)\n",
    "    for token in tokens:\n",
    "        if re.search('[a-zA-Z]', token):\n",
    "            filtered_tokens.append(token)\n",
    "\n",
    "    stems = [stemmer.stem(t) for t in filtered_tokens]\n",
    "    return stems"
   ]
  },
  {
   "cell_type": "code",
   "execution_count": 0,
   "metadata": {
    "colab": {},
    "colab_type": "code",
    "id": "4co6vh68lKM1"
   },
   "outputs": [],
   "source": [
    " data['tokenize_and_stem']=data['newtext'].apply(tokenize_and_stem)"
   ]
  },
  {
   "cell_type": "code",
   "execution_count": 0,
   "metadata": {
    "colab": {
     "base_uri": "https://localhost:8080/",
     "height": 126
    },
    "colab_type": "code",
    "id": "AACadMZOlcdU",
    "outputId": "b6bcead6-7639-48d0-c5c1-e63471e8497c"
   },
   "outputs": [
    {
     "data": {
      "text/plain": [
       "0    [minut, read, written, bysondr, widmark, mari,...\n",
       "1    [don, t, technic, assumpt, don, t, seat, devel...\n",
       "2    [github, home, million, develop, work, host, r...\n",
       "3                                                   []\n",
       "4                               [websit, give, access]\n",
       "Name: tokenize_and_stem, dtype: object"
      ]
     },
     "execution_count": 74,
     "metadata": {
      "tags": []
     },
     "output_type": "execute_result"
    }
   ],
   "source": [
    "data['tokenize_and_stem'].head(5)"
   ]
  },
  {
   "cell_type": "markdown",
   "metadata": {
    "colab_type": "text",
    "id": "9Co8M_gv_TN6"
   },
   "source": [
    "function for tokenize_and_lemmatize"
   ]
  },
  {
   "cell_type": "code",
   "execution_count": 0,
   "metadata": {
    "colab": {},
    "colab_type": "code",
    "id": "tgwz4-rqli7j"
   },
   "outputs": [],
   "source": [
    "def tokenize_and_lemmatize(doc, remove_stopwords = True):\n",
    "    \n",
    "    if remove_stopwords:\n",
    "        tokens = [word for word in doc if not word.is_stop]\n",
    "    else:\n",
    "        tokens = [word for word in doc]\n",
    "        \n",
    "    filtered_tokens = []\n",
    "    # filter out any tokens not containing letters (e.g., numeric tokens, raw punctuation)\n",
    "    for token in tokens:\n",
    "        if re.search('[a-zA-Z]', token.text):\n",
    "            filtered_tokens.append(token)\n",
    "            \n",
    "    lemma = [t.lemma_ for t in filtered_tokens]\n",
    "    return lemma"
   ]
  },
  {
   "cell_type": "code",
   "execution_count": 0,
   "metadata": {
    "colab": {},
    "colab_type": "code",
    "id": "PAzxxnGrmf6w"
   },
   "outputs": [],
   "source": [
    " data['tokenize_and_lemmatize']=data['newtext'].apply(tokenize_and_lemmatize)"
   ]
  },
  {
   "cell_type": "code",
   "execution_count": 0,
   "metadata": {
    "colab": {
     "base_uri": "https://localhost:8080/",
     "height": 495
    },
    "colab_type": "code",
    "id": "2YbxWso9nEhx",
    "outputId": "d5474de2-5bb2-47ee-f189-20fe0b328705"
   },
   "outputs": [
    {
     "data": {
      "text/html": [
       "<div>\n",
       "<style scoped>\n",
       "    .dataframe tbody tr th:only-of-type {\n",
       "        vertical-align: middle;\n",
       "    }\n",
       "\n",
       "    .dataframe tbody tr th {\n",
       "        vertical-align: top;\n",
       "    }\n",
       "\n",
       "    .dataframe thead th {\n",
       "        text-align: right;\n",
       "    }\n",
       "</style>\n",
       "<table border=\"1\" class=\"dataframe\">\n",
       "  <thead>\n",
       "    <tr style=\"text-align: right;\">\n",
       "      <th></th>\n",
       "      <th>title</th>\n",
       "      <th>domain</th>\n",
       "      <th>url</th>\n",
       "      <th>date_created</th>\n",
       "      <th>num_upvotes</th>\n",
       "      <th>num_comments</th>\n",
       "      <th>posted_by_user</th>\n",
       "      <th>text</th>\n",
       "      <th>word_count</th>\n",
       "      <th>newtext</th>\n",
       "      <th>tokens</th>\n",
       "      <th>stopwordremoves</th>\n",
       "      <th>tokenize_and_stem</th>\n",
       "      <th>tokenize_and_lemmatize</th>\n",
       "    </tr>\n",
       "  </thead>\n",
       "  <tbody>\n",
       "    <tr>\n",
       "      <th>0</th>\n",
       "      <td>Working with Azure Application Insights in You...</td>\n",
       "      <td>(react.christmas)</td>\n",
       "      <td>https://react.christmas/2019/11</td>\n",
       "      <td>2 minutes ago</td>\n",
       "      <td>1 point</td>\n",
       "      <td>discuss</td>\n",
       "      <td>selbekk</td>\n",
       "      <td>a minute read written bysondre widmark and mar...</td>\n",
       "      <td>781</td>\n",
       "      <td>(a, minute, read, written, bysondre, widmark, ...</td>\n",
       "      <td>a minute read written bysondre widmark and mar...</td>\n",
       "      <td>None</td>\n",
       "      <td>[minut, read, written, bysondr, widmark, mari,...</td>\n",
       "      <td>[minute, read, write, bysondre, widmark, marie...</td>\n",
       "    </tr>\n",
       "    <tr>\n",
       "      <th>1</th>\n",
       "      <td>A universal tech code of conduct (parkersoftwa...</td>\n",
       "      <td>(parkersoftware.com)</td>\n",
       "      <td>https://www.parkersoftware.com/blog/a-universa...</td>\n",
       "      <td>3 minutes ago</td>\n",
       "      <td>3 points</td>\n",
       "      <td>discuss</td>\n",
       "      <td>roxyabercrombie</td>\n",
       "      <td>don t make technical assumptions don t back se...</td>\n",
       "      <td>757</td>\n",
       "      <td>(don, t, make, technical, assumptions, don, t,...</td>\n",
       "      <td>don t make technical assumptions don t back se...</td>\n",
       "      <td>None</td>\n",
       "      <td>[don, t, technic, assumpt, don, t, seat, devel...</td>\n",
       "      <td>[don, t, technical, assumption, don, t, seat, ...</td>\n",
       "    </tr>\n",
       "    <tr>\n",
       "      <th>2</th>\n",
       "      <td>Scolp: Streaming Column Printer for Python (Ne...</td>\n",
       "      <td>(github.com)</td>\n",
       "      <td>https://github.com/davidohana/python-scolp</td>\n",
       "      <td>4 minutes ago</td>\n",
       "      <td>1 point</td>\n",
       "      <td>discuss</td>\n",
       "      <td>davidoh</td>\n",
       "      <td>github is home to over million developers work...</td>\n",
       "      <td>337</td>\n",
       "      <td>(github, is, home, to, over, million, develope...</td>\n",
       "      <td>github is home to over million developers work...</td>\n",
       "      <td>None</td>\n",
       "      <td>[github, home, million, develop, work, host, r...</td>\n",
       "      <td>[github, home, million, developer, work, host,...</td>\n",
       "    </tr>\n",
       "    <tr>\n",
       "      <th>3</th>\n",
       "      <td>Thinking in React Hooks (wattenberger.com)</td>\n",
       "      <td>(wattenberger.com)</td>\n",
       "      <td>https://wattenberger.com/blog/react-hooks</td>\n",
       "      <td>5 minutes ago</td>\n",
       "      <td>1 point</td>\n",
       "      <td>discuss</td>\n",
       "      <td>mariuz</td>\n",
       "      <td></td>\n",
       "      <td>1</td>\n",
       "      <td>()</td>\n",
       "      <td></td>\n",
       "      <td>None</td>\n",
       "      <td>[]</td>\n",
       "      <td>[]</td>\n",
       "    </tr>\n",
       "    <tr>\n",
       "      <th>4</th>\n",
       "      <td>Startup School Winter 2020 (ycombinator.com)</td>\n",
       "      <td>(ycombinator.com)</td>\n",
       "      <td>https://blog.ycombinator.com/announcing-startu...</td>\n",
       "      <td>7 minutes ago</td>\n",
       "      <td>2 points</td>\n",
       "      <td>discuss</td>\n",
       "      <td>bithavoc</td>\n",
       "      <td>website is not giving access</td>\n",
       "      <td>5</td>\n",
       "      <td>(website, is, not, giving, access)</td>\n",
       "      <td>website is not giving access</td>\n",
       "      <td>None</td>\n",
       "      <td>[websit, give, access]</td>\n",
       "      <td>[website, give, access]</td>\n",
       "    </tr>\n",
       "  </tbody>\n",
       "</table>\n",
       "</div>"
      ],
      "text/plain": [
       "                                               title  ...                             tokenize_and_lemmatize\n",
       "0  Working with Azure Application Insights in You...  ...  [minute, read, write, bysondre, widmark, marie...\n",
       "1  A universal tech code of conduct (parkersoftwa...  ...  [don, t, technical, assumption, don, t, seat, ...\n",
       "2  Scolp: Streaming Column Printer for Python (Ne...  ...  [github, home, million, developer, work, host,...\n",
       "3         Thinking in React Hooks (wattenberger.com)  ...                                                 []\n",
       "4       Startup School Winter 2020 (ycombinator.com)  ...                            [website, give, access]\n",
       "\n",
       "[5 rows x 14 columns]"
      ]
     },
     "execution_count": 78,
     "metadata": {
      "tags": []
     },
     "output_type": "execute_result"
    }
   ],
   "source": [
    "data.head(5)"
   ]
  },
  {
   "cell_type": "markdown",
   "metadata": {
    "colab_type": "text",
    "id": "-Ug-9WS1_Y3n"
   },
   "source": [
    "Sample of original and preproceesing data"
   ]
  },
  {
   "cell_type": "code",
   "execution_count": 0,
   "metadata": {
    "colab": {
     "base_uri": "https://localhost:8080/",
     "height": 237
    },
    "colab_type": "code",
    "id": "U-ETAc-WnHVF",
    "outputId": "3e2109b8-266e-4634-e49f-7e4b9a35f114"
   },
   "outputs": [
    {
     "name": "stdout",
     "output_type": "stream",
     "text": [
      "don t make technical assumptions don t back seat develop don t be a know it all don t sweat the non software stuff these are the universal rules of the tech world when followed everyone benefits junior developer to cto here s why we need a tech code of conduct and how each of these rules help create a positive programming environment with more collaborative spark less snark any tech team is likely to be filled with an eclectic range of skill levels specialities and experience drew earned programming chops through formal education charlie hacked away at home to produce an employable portfolio and that s fine welcome even a mixed team provides a great opportunity for developers to share knowledge and understanding however it also opens the opportunity to make incorrect tech assumptions about what a team member knows or doesn t when this happens communication can break down and important questions go unasked assuming someone knows something can also lead to embarrassment for example drew asks a question and charlie makes a big show of surprise drew why are these laravel methods static charlie wait you don t know how to work with eloquent models this kind of attitude centred around tech assumptions can make your colleagues feel embarrassed or inadequate about not knowing something in turn this discourages them from asking future questions development is all about problem solving and collaboration is integral to solving problems when you overhear a problem you can solve it can be tempting to butt in and offer your solution it s helpful right well no in fact it s the next rule in the tech code of conduct backseat developing is when you interrupt conversations you aren t part of to give advice you weren t asked for sam i m going for this wordpress theme alex wordpress why don t you just build your own cms like backseat driving backseat developing is often incredibly unhelpful you don t have all the information at hand your advice can be incorrect it disturbs other team members when shouted across the room and it belittles the team members discussing the problem but sometimes your advice can be helpful so if you think there s a problem you can help with ask to join the conversation get all the information and include your colleagues in finding the solution doing this shows that you respect other developers knowledge and points of view after all they might have a reason for doing something a certain way whether it s fact or opinion being corrected can be infuriating and belittling in equal measure when chatting with colleagues then it s best to avoid unnecessary corrections and choose your battles wisely overly pedantic team members interrupt the flow of the conversation distract from the main point and steal the attention from the main speaker pat so we ve got this gif for onboarding screen lou erm don t you mean jif of course sometimes it s important that corrections are made to avoid confusion misunderstanding or wasted time so if a colleague gets something wrong question whether the error is relevant to the conversation before you correct them if the mistake could cause later confusion and the point is directly related to the corrected information then you have grounds to politely correct the speaker otherwise don t be an insufferable know it all tensions often run high on the dev floor thanks to looming deadlines ever changing requirements and coding controversy so when things go wrong stress can take over unfortunately stress can make reactions become rash and defensive as emotion drives responses rather than reason emotionally charged responses often cause unnecessary conflicts these conflicts then distract from the development problem at hand jean jamie or something to that effect if it s personal and non product related don t bring it to the development discussion if it is a direct dev problem bad code a bug a security issue then talk about it with a reasoned respectful and logical approach the universal tech code of conduct is best used as a framework to help you keep life on the development floor as conflict free as possible this isn t always easy and the list of directives could be endless these four core points however form the foundation of a more collaborative tech team note we originally published this article here https dzone com articles a universal tech code of conduct parker software all rights reserved uk company registration number vat registration gb \n",
      "************************************************************\n",
      "\n",
      " tokenize_and_stem \n",
      "\n",
      "['don', 't', 'technic', 'assumpt', 'don', 't', 'seat', 'develop', 'don', 't', 'know', 'don', 't', 'sweat', 'non', 'softwar', 'stuff', 'univers', 'rule', 'tech', 'world', 'follow', 'benefit', 'junior', 'develop', 'cto', 's', 'need', 'tech', 'code', 'conduct', 'rule', 'help', 'creat', 'posit', 'program', 'environ', 'collabor', 'spark', 'snark', 'tech', 'team', 'like', 'fill', 'eclect', 'rang', 'skill', 'level', 'special', 'experi', 'drew', 'earn', 'program', 'chop', 'formal', 'educ', 'charli', 'hack', 'away', 'home', 'produc', 'employ', 'portfolio', 's', 'fine', 'welcom', 'mix', 'team', 'provid', 'great', 'opportun', 'develop', 'share', 'knowledg', 'understand', 'open', 'opportun', 'incorrect', 'tech', 'assumpt', 'team', 'member', 'know', 'doesn', 't', 'happen', 'communic', 'break', 'import', 'question', 'unask', 'assum', 'know', 'lead', 'embarrass', 'exampl', 'drew', 'ask', 'question', 'charli', 'make', 'big', 'surpris', 'drew', 'laravel', 'method', 'static', 'charli', 'wait', 'don', 't', 'know', 'work', 'eloqu', 'model', 'kind', 'attitud', 'centr', 'tech', 'assumpt', 'colleagu', 'feel', 'embarrass', 'inadequ', 'know', 'turn', 'discourag', 'ask', 'futur', 'question', 'develop', 'problem', 'solv', 'collabor', 'integr', 'solv', 'problem', 'overhear', 'problem', 'solv', 'tempt', 'butt', 'offer', 'solut', 's', 'help', 'right', 'fact', 's', 'rule', 'tech', 'code', 'conduct', 'backseat', 'develop', 'interrupt', 'convers', 'aren', 't', 'advic', 'weren', 't', 'ask', 'sam', 'm', 'go', 'wordpress', 'theme', 'alex', 'wordpress', 'don', 't', 'build', 'cms', 'like', 'backseat', 'drive', 'backseat', 'develop', 'incred', 'unhelp', 'don', 't', 'inform', 'hand', 'advic', 'incorrect', 'disturb', 'team', 'member', 'shout', 'room', 'belittl', 'team', 'member', 'discuss', 'problem', 'advic', 'help', 'think', 's', 'problem', 'help', 'ask', 'join', 'convers', 'inform', 'includ', 'colleagu', 'find', 'solut', 'show', 'respect', 'develop', 'knowledg', 'point', 'view', 'reason', 'certain', 'way', 's', 'fact', 'opinion', 'correct', 'infuri', 'belittl', 'equal', 'measur', 'chat', 'colleagu', 's', 'best', 'avoid', 'unnecessari', 'correct', 'choos', 'battl', 'wise', 'over', 'pedant', 'team', 'member', 'interrupt', 'flow', 'convers', 'distract', 'main', 'point', 'steal', 'attent', 'main', 'speaker', 'pat', 've', 'got', 'gif', 'onboard', 'screen', 'lou', 'erm', 'don', 't', 'mean', 'jif', 'cours', 's', 'import', 'correct', 'avoid', 'confus', 'misunderstand', 'wast', 'time', 'colleagu', 'get', 'wrong', 'question', 'error', 'relev', 'convers', 'correct', 'mistak', 'caus', 'later', 'confus', 'point', 'direct', 'relat', 'correct', 'inform', 'ground', 'polit', 'correct', 'speaker', 'don', 't', 'insuffer', 'know', 'tension', 'run', 'high', 'dev', 'floor', 'thank', 'loom', 'deadlin', 'chang', 'requir', 'code', 'controversi', 'thing', 'wrong', 'stress', 'unfortun', 'stress', 'reaction', 'rash', 'defens', 'emot', 'drive', 'respons', 'reason', 'emot', 'charg', 'respons', 'caus', 'unnecessari', 'conflict', 'conflict', 'distract', 'develop', 'problem', 'hand', 'jean', 'jami', 'effect', 's', 'person', 'non', 'product', 'relat', 'don', 't', 'bring', 'develop', 'discuss', 'direct', 'dev', 'problem', 'bad', 'code', 'bug', 'secur', 'issu', 'talk', 'reason', 'respect', 'logic', 'approach', 'univers', 'tech', 'code', 'conduct', 'best', 'framework', 'help', 'life', 'develop', 'floor', 'conflict', 'free', 'possibl', 'isn', 't', 'easi', 'list', 'direct', 'endless', 'core', 'point', 'form', 'foundat', 'collabor', 'tech', 'team', 'note', 'origin', 'publish', 'articl', 'https', 'dzone', 'com', 'articl', 'univers', 'tech', 'code', 'conduct', 'parker', 'softwar', 'right', 'reserv', 'uk', 'compani', 'registr', 'number', 'vat', 'registr', 'gb']\n",
      "************************************************************\n",
      "\n",
      " tokenize_and_lemmatize \n",
      "\n",
      "['don', 't', 'technical', 'assumption', 'don', 't', 'seat', 'develop', 'don', 't', 'know', 'don', 't', 'sweat', 'non', 'software', 'stuff', 'universal', 'rule', 'tech', 'world', 'follow', 'benefit', 'junior', 'developer', 'cto', 's', 'need', 'tech', 'code', 'conduct', 'rule', 'help', 'create', 'positive', 'programming', 'environment', 'collaborative', 'spark', 'snark', 'tech', 'team', 'likely', 'fill', 'eclectic', 'range', 'skill', 'level', 'speciality', 'experience', 'draw', 'earned', 'programming', 'chop', 'formal', 'education', 'charlie', 'hack', 'away', 'home', 'produce', 'employable', 'portfolio', 's', 'fine', 'welcome', 'mixed', 'team', 'provide', 'great', 'opportunity', 'developer', 'share', 'knowledge', 'understanding', 'open', 'opportunity', 'incorrect', 'tech', 'assumption', 'team', 'member', 'know', 'doesn', 't', 'happen', 'communication', 'break', 'important', 'question', 'unasked', 'assume', 'know', 'lead', 'embarrassment', 'example', 'draw', 'ask', 'question', 'charlie', 'make', 'big', 'surprise', 'draw', 'laravel', 'method', 'static', 'charlie', 'wait', 'don', 't', 'know', 'work', 'eloquent', 'model', 'kind', 'attitude', 'centre', 'tech', 'assumption', 'colleague', 'feel', 'embarrassed', 'inadequate', 'know', 'turn', 'discourage', 'ask', 'future', 'question', 'development', 'problem', 'solve', 'collaboration', 'integral', 'solve', 'problem', 'overhear', 'problem', 'solve', 'tempting', 'butt', 'offer', 'solution', 's', 'helpful', 'right', 'fact', 's', 'rule', 'tech', 'code', 'conduct', 'backseat', 'developing', 'interrupt', 'conversation', 'aren', 't', 'advice', 'weren', 't', 'ask', 'sam', 'm', 'go', 'wordpress', 'theme', 'alex', 'wordpress', 'don', 't', 'build', 'cms', 'like', 'backseat', 'drive', 'backseat', 'develop', 'incredibly', 'unhelpful', 'don', 't', 'information', 'hand', 'advice', 'incorrect', 'disturb', 'team', 'member', 'shout', 'room', 'belittle', 'team', 'member', 'discuss', 'problem', 'advice', 'helpful', 'think', 's', 'problem', 'help', 'ask', 'join', 'conversation', 'information', 'include', 'colleague', 'find', 'solution', 'show', 'respect', 'developer', 'knowledge', 'point', 'view', 'reason', 'certain', 'way', 's', 'fact', 'opinion', 'correct', 'infuriate', 'belittle', 'equal', 'measure', 'chat', 'colleague', 's', 'good', 'avoid', 'unnecessary', 'correction', 'choose', 'battle', 'wisely', 'overly', 'pedantic', 'team', 'member', 'interrupt', 'flow', 'conversation', 'distract', 'main', 'point', 'steal', 'attention', 'main', 'speaker', 'pat', 've', 'get', 'gif', 'onboarde', 'screen', 'lou', 'erm', 'don', 't', 'mean', 'jif', 'course', 's', 'important', 'correction', 'avoid', 'confusion', 'misunderstanding', 'waste', 'time', 'colleague', 'get', 'wrong', 'question', 'error', 'relevant', 'conversation', 'correct', 'mistake', 'cause', 'later', 'confusion', 'point', 'directly', 'relate', 'correct', 'information', 'ground', 'politely', 'correct', 'speaker', 'don', 't', 'insufferable', 'know', 'tension', 'run', 'high', 'dev', 'floor', 'thank', 'loom', 'deadline', 'change', 'requirement', 'code', 'controversy', 'thing', 'wrong', 'stress', 'unfortunately', 'stress', 'reaction', 'rash', 'defensive', 'emotion', 'drive', 'response', 'reason', 'emotionally', 'charge', 'response', 'cause', 'unnecessary', 'conflict', 'conflict', 'distract', 'development', 'problem', 'hand', 'jean', 'jamie', 'effect', 's', 'personal', 'non', 'product', 'relate', 'don', 't', 'bring', 'development', 'discussion', 'direct', 'dev', 'problem', 'bad', 'code', 'bug', 'security', 'issue', 'talk', 'reason', 'respectful', 'logical', 'approach', 'universal', 'tech', 'code', 'conduct', 'best', 'framework', 'help', 'life', 'development', 'floor', 'conflict', 'free', 'possible', 'isn', 't', 'easy', 'list', 'directive', 'endless', 'core', 'point', 'form', 'foundation', 'collaborative', 'tech', 'team', 'note', 'originally', 'publish', 'article', 'https', 'dzone', 'com', 'article', 'universal', 'tech', 'code', 'conduct', 'park', 'software', 'right', 'reserve', 'uk', 'company', 'registration', 'number', 'vat', 'registration', 'gb']\n"
     ]
    }
   ],
   "source": [
    "print(data['text'][1])\n",
    "print(\"************************************************************\")\n",
    "\n",
    "print(\"\\n tokenize_and_stem \\n\")\n",
    "print(data['tokenize_and_stem'][1])\n",
    "\n",
    "print(\"************************************************************\")\n",
    "print(\"\\n tokenize_and_lemmatize \\n\")\n",
    "print(data['tokenize_and_lemmatize'][1])"
   ]
  },
  {
   "cell_type": "markdown",
   "metadata": {
    "colab_type": "text",
    "id": "HEYdeFfA_kOb"
   },
   "source": [
    "creating Term frequency inverse documnet matrics using Tfidfvectorizer"
   ]
  },
  {
   "cell_type": "code",
   "execution_count": 0,
   "metadata": {
    "colab": {
     "base_uri": "https://localhost:8080/",
     "height": 55
    },
    "colab_type": "code",
    "id": "_VCc4kQ_n5OI",
    "outputId": "04d55bca-7cc8-435c-fe7f-ad9f4542b0f5"
   },
   "outputs": [
    {
     "data": {
      "text/plain": [
       "'minute read write bysondre widmark marie buøen know user interact application try late feature deploy production examine user s behaviour interaction tremendously useful figuring incur problem halt purchase onboarde process people fall long time spend certain page site locate valuable information improvement development website product service offer relate measure track user s behaviour website article introduction azure s application insight react project focus s setup implementation react project microsoft s npm package create integrate project track application insight microsoft applicationinsight web javascript sdk work interested track action event microsoft applicationinsight react js react plugin javascript sdk enable instrument react component usage tracking utilize high order component function permit calibrated tracking instance measure time componentdidmount event componentwillunmount event s useful react demo project microsoft available need start instrumentation key application insight resource azure portal get start application insight track try run demo locally experiment different form track showcase let s trackin basic form tracking arguably event tracking example want track user search site pretty straight forward use trackevent method pass object argument use key track different event application insight pass useful datum multiple event tracking prove beneficial observe stage process showcase possible use case better place s look azure portal example bit primitive get point ve create funnel event let track event sequence measure change step instance multi step onboarde process prove beneficial investigate user fall get event tracking tracking method ve introduce severity level filter tracking application insight display require immediate attention deserve log instead manually automatically track number event explicitly tell convenient feature auto collect error api method useful feature automatically track page view user navigation behaviour let follow user path start end look visit page navigation route instance purchase process look like tracking smart course useful tracking want include datum relevant monitor page view event error s easy look common denominator potential improvement error instance create helper track event include relevant datum approach predetermine desire datum pass particular type datum different type track additionally instead type tracking manually prove wise create file maintain track constant use project application insight number template available allow explore metric webapp need prerequisite knowledge experience s ton functionality isn t mention hopefully article serve interesting introduction azure application insight react project potential benefit small hobby project large client github application insight javascript sdk github application insight react plugin github application insight demo bekk craftmanship people craft year create calendar daily content article podcast'"
      ]
     },
     "execution_count": 81,
     "metadata": {
      "tags": []
     },
     "output_type": "execute_result"
    }
   ],
   "source": [
    "data['tokenize_and_stem'] = [' '.join(text) for text in data['tokenize_and_stem']]\n",
    "data['tokenize_and_lemmatize'] = [' '.join(text) for text in data['tokenize_and_lemmatize']]\n",
    "data['tokenize_and_lemmatize'][0]"
   ]
  },
  {
   "cell_type": "code",
   "execution_count": 0,
   "metadata": {
    "colab": {
     "base_uri": "https://localhost:8080/",
     "height": 35
    },
    "colab_type": "code",
    "id": "EmVYp1-Npl3D",
    "outputId": "83586657-fb4b-4576-9487-ca0ac77bfb90"
   },
   "outputs": [
    {
     "name": "stdout",
     "output_type": "stream",
     "text": [
      "(630, 87)\n"
     ]
    }
   ],
   "source": [
    "from sklearn.feature_extraction.text import TfidfVectorizer\n",
    "\n",
    "#define vectorizer parameters\n",
    "tfidf_vectorizer = TfidfVectorizer(max_df=0.9, max_features=20000,\n",
    "                                 min_df=0.2,\n",
    "                                 use_idf=True, ngram_range=(1,4))\n",
    "\n",
    "tfidf_matrix = tfidf_vectorizer.fit_transfor\n",
    "m(data['tokenize_and_lemmatize'])\n",
    "\n",
    "print(tfidf_matrix.shape)"
   ]
  },
  {
   "cell_type": "code",
   "execution_count": 0,
   "metadata": {
    "colab": {
     "base_uri": "https://localhost:8080/",
     "height": 399
    },
    "colab_type": "code",
    "id": "eGMATSy5qBZm",
    "outputId": "d42efd15-810a-4a42-8e57-0a2b1d8a7e90"
   },
   "outputs": [
    {
     "name": "stdout",
     "output_type": "stream",
     "text": [
      "<class 'list'>\n"
     ]
    },
    {
     "data": {
      "text/plain": [
       "['access',\n",
       " 'add',\n",
       " 'allow',\n",
       " 'base',\n",
       " 'big',\n",
       " 'build',\n",
       " 'call',\n",
       " 'case',\n",
       " 'change',\n",
       " 'code',\n",
       " 'come',\n",
       " 'company',\n",
       " 'create',\n",
       " 'datum',\n",
       " 'day',\n",
       " 'different',\n",
       " 'don',\n",
       " 'end',\n",
       " 'example',\n",
       " 'experience']"
      ]
     },
     "execution_count": 84,
     "metadata": {
      "tags": []
     },
     "output_type": "execute_result"
    }
   ],
   "source": [
    "terms = tfidf_vectorizer.get_feature_names()\n",
    "print(type(terms))\n",
    "terms[:20]"
   ]
  },
  {
   "cell_type": "markdown",
   "metadata": {
    "colab_type": "text",
    "id": "OYzWUlRr_ydZ"
   },
   "source": [
    "Creting topic modeling"
   ]
  },
  {
   "cell_type": "code",
   "execution_count": 0,
   "metadata": {
    "colab": {},
    "colab_type": "code",
    "id": "NoRog_FjqKCz"
   },
   "outputs": [],
   "source": [
    "import numpy as np\n",
    "import matplotlib.pyplot as plt\n",
    "from sklearn import metrics\n",
    "from sklearn.cluster import KMeans\n",
    "import joblib\n",
    "Sum_of_squared_distances = []\n",
    "K = range(1,10)\n",
    "for k in K:\n",
    "    kmeanModel = KMeans(n_clusters=k, random_state=143)\n",
    "    kmeanModel.fit(tfidf_matrix)\n",
    "    Sum_of_squared_distances.append(kmeanModel.inertia_)"
   ]
  },
  {
   "cell_type": "markdown",
   "metadata": {
    "colab_type": "text",
    "id": "EciVyirs_440"
   },
   "source": [
    "Selecting no of culster using elbow methos"
   ]
  },
  {
   "cell_type": "code",
   "execution_count": 0,
   "metadata": {
    "colab": {
     "base_uri": "https://localhost:8080/",
     "height": 349
    },
    "colab_type": "code",
    "id": "nLRM0M-FqUwM",
    "outputId": "c9a186af-3307-4e1e-a4b3-cdca2045a189"
   },
   "outputs": [
    {
     "name": "stderr",
     "output_type": "stream",
     "text": [
      "findfont: Font family ['normal'] not found. Falling back to DejaVu Sans.\n",
      "findfont: Font family ['normal'] not found. Falling back to DejaVu Sans.\n",
      "findfont: Font family ['normal'] not found. Falling back to DejaVu Sans.\n"
     ]
    },
    {
     "data": {
      "image/png": "[encoded data removed]",
      "text/plain": [
       "<Figure size 432x288 with 1 Axes>"
      ]
     },
     "metadata": {
      "tags": []
     },
     "output_type": "display_data"
    }
   ],
   "source": [
    "font = {'family' : 'normal',\n",
    "        'weight' : 'bold',\n",
    "        'size'   : 10}\n",
    "\n",
    "plt.rc('font', **font)\n",
    "plt.plot(K, Sum_of_squared_distances, 'bx-')\n",
    "plt.xlabel('k')\n",
    "plt.ylabel('Sum_of_squared_distances')\n",
    "plt.title('Elbow Method For Optimal k')\n",
    "plt.show()\n"
   ]
  },
  {
   "cell_type": "code",
   "execution_count": 0,
   "metadata": {
    "colab": {
     "base_uri": "https://localhost:8080/",
     "height": 835
    },
    "colab_type": "code",
    "id": "mF5fOLkoqd-Y",
    "outputId": "ae346b16-6bcb-4012-aa4f-7c0e2c1d8d13"
   },
   "outputs": [
    {
     "name": "stdout",
     "output_type": "stream",
     "text": [
      "the cluster centers are [[1.86493002e-02 4.43233066e-02 3.16218418e-02 3.96003631e-02\n",
      "  2.88096610e-02 4.59649932e-02 2.88781312e-02 3.34086961e-02\n",
      "  5.95229233e-02 5.85296344e-02 4.19738537e-02 6.83685268e-02\n",
      "  4.94638194e-02 6.27974515e-02 3.86761953e-02 3.17522614e-02\n",
      "  3.69912840e-02 3.37805479e-02 4.59469418e-02 2.84533567e-02\n",
      "  4.97969684e-02 4.18274427e-02 3.27606266e-02 3.41202049e-02\n",
      "  2.41958783e-02 9.89119368e-05 4.07494777e-02 4.65632799e-02\n",
      "  2.93960230e-02 4.12358133e-02 4.28086880e-02 3.95007522e-02\n",
      "  4.44941129e-02 4.74926036e-02 5.60060086e-02 3.32030792e-02\n",
      "  4.06903441e-02 3.97225983e-02 7.38643173e-02 2.92279951e-02\n",
      "  4.99901639e-02 3.25543095e-02 3.15586545e-02 6.42124829e-02\n",
      "  8.90011597e-02 3.46763251e-02 3.60954245e-02 6.84705302e-02\n",
      "  2.60386460e-02 2.97602701e-02 4.31098028e-02 3.57093020e-02\n",
      "  2.92168768e-02 4.62787272e-02 3.64290953e-02 4.83572038e-02\n",
      "  3.36945303e-02 3.59339903e-02 4.28656517e-02 4.48546708e-02\n",
      "  9.44360239e-02 2.43191951e-02 4.34803158e-02 3.64212396e-02\n",
      "  3.91303313e-02 4.58774051e-02 4.20439034e-02 5.27691217e-02\n",
      "  5.37773619e-02 3.54919640e-02 3.48845836e-02 4.27426899e-02\n",
      "  4.55638168e-02 7.26503320e-02 5.03320678e-02 8.42626421e-02\n",
      "  5.70720347e-02 3.55212494e-02 4.71981055e-02 5.59773878e-02\n",
      "  2.46918501e-02 0.00000000e+00 0.00000000e+00 9.14612320e-02\n",
      "  4.45053625e-02 4.68193682e-02 8.60317110e-02]\n",
      " [3.64595497e-01 0.00000000e+00 0.00000000e+00 0.00000000e+00\n",
      "  0.00000000e+00 0.00000000e+00 0.00000000e+00 0.00000000e+00\n",
      "  0.00000000e+00 0.00000000e+00 0.00000000e+00 0.00000000e+00\n",
      "  0.00000000e+00 0.00000000e+00 0.00000000e+00 0.00000000e+00\n",
      "  0.00000000e+00 0.00000000e+00 0.00000000e+00 0.00000000e+00\n",
      "  0.00000000e+00 0.00000000e+00 0.00000000e+00 0.00000000e+00\n",
      "  3.17820595e-01 4.56438654e-01 0.00000000e+00 0.00000000e+00\n",
      "  0.00000000e+00 0.00000000e+00 0.00000000e+00 0.00000000e+00\n",
      "  0.00000000e+00 0.00000000e+00 0.00000000e+00 0.00000000e+00\n",
      "  0.00000000e+00 0.00000000e+00 0.00000000e+00 0.00000000e+00\n",
      "  0.00000000e+00 0.00000000e+00 0.00000000e+00 0.00000000e+00\n",
      "  0.00000000e+00 0.00000000e+00 0.00000000e+00 0.00000000e+00\n",
      "  0.00000000e+00 0.00000000e+00 0.00000000e+00 0.00000000e+00\n",
      "  0.00000000e+00 0.00000000e+00 0.00000000e+00 0.00000000e+00\n",
      "  0.00000000e+00 0.00000000e+00 0.00000000e+00 0.00000000e+00\n",
      "  0.00000000e+00 0.00000000e+00 0.00000000e+00 0.00000000e+00\n",
      "  0.00000000e+00 0.00000000e+00 0.00000000e+00 0.00000000e+00\n",
      "  0.00000000e+00 0.00000000e+00 0.00000000e+00 0.00000000e+00\n",
      "  0.00000000e+00 0.00000000e+00 0.00000000e+00 0.00000000e+00\n",
      "  0.00000000e+00 0.00000000e+00 0.00000000e+00 0.00000000e+00\n",
      "  3.72468722e-01 4.57706784e-01 4.57706784e-01 0.00000000e+00\n",
      "  0.00000000e+00 0.00000000e+00 0.00000000e+00]]\n"
     ]
    },
    {
     "data": {
      "text/plain": [
       "['doc_cluster_best_K.pkl']"
      ]
     },
     "execution_count": 87,
     "metadata": {
      "tags": []
     },
     "output_type": "execute_result"
    }
   ],
   "source": [
    "num_clusters = 2\n",
    "\n",
    "km = KMeans(n_clusters=num_clusters)\n",
    "\n",
    "km.fit(tfidf_matrix)\n",
    "clusters = km.labels_.tolist()\n",
    "centers = km.cluster_centers_\n",
    "print(f\"the cluster centers are {centers}\")\n",
    "\n",
    "joblib.dump(km,  'doc_cluster_best_K.pkl')"
   ]
  },
  {
   "cell_type": "code",
   "execution_count": 0,
   "metadata": {
    "colab": {
     "base_uri": "https://localhost:8080/",
     "height": 219
    },
    "colab_type": "code",
    "id": "EvehvtrdqnVs",
    "outputId": "f8325230-7593-489f-ed4b-96a1c5df0619"
   },
   "outputs": [
    {
     "name": "stdout",
     "output_type": "stream",
     "text": [
      "Top terms per cluster:\n",
      "\n",
      "\n",
      "Top words in Cluster-0 :\n",
      "\n",
      "['say'],['work'],['new'],['year'],['use'],['like'],['time'],['people'],['company'],['need'],['datum'],['change'],['code'],['user'],['know'],['way'],['system'],['support'],['try'],['look'],\n",
      "\n",
      "Top words in Cluster-1 :\n",
      "\n",
      "['website', 'give', 'access'],['website', 'give'],['give', 'access'],['website'],['access'],['give'],['help'],['free'],['get'],['go'],['good'],['great'],['happen'],['include'],['high'],['find'],['information'],['know'],['large'],['learn'],"
     ]
    }
   ],
   "source": [
    "print(\"Top terms per cluster:\")\n",
    "order_centroids = km.cluster_centers_.argsort()[:, ::-1] \n",
    "for i in range(num_clusters):\n",
    "    print(\"\\n\")\n",
    "    print(\"Top words in Cluster-%d :\" % i, end='')\n",
    "    print(\"\\n\")\n",
    "    for ind in order_centroids[i, :20]: #replace 6 with n words per cluster\n",
    "        print('%s' % terms[ind].split(' '), end=',')"
   ]
  },
  {
   "cell_type": "markdown",
   "metadata": {
    "colab_type": "text",
    "id": "bjZsUbC2ACHy"
   },
   "source": [
    "Appending cluter to the data frame"
   ]
  },
  {
   "cell_type": "code",
   "execution_count": 0,
   "metadata": {
    "colab": {
     "base_uri": "https://localhost:8080/",
     "height": 594
    },
    "colab_type": "code",
    "id": "xBP2OHliquV6",
    "outputId": "3d276d94-a96d-4c8d-d862-a3dec993026f"
   },
   "outputs": [
    {
     "data": {
      "text/html": [
       "<div>\n",
       "<style scoped>\n",
       "    .dataframe tbody tr th:only-of-type {\n",
       "        vertical-align: middle;\n",
       "    }\n",
       "\n",
       "    .dataframe tbody tr th {\n",
       "        vertical-align: top;\n",
       "    }\n",
       "\n",
       "    .dataframe thead th {\n",
       "        text-align: right;\n",
       "    }\n",
       "</style>\n",
       "<table border=\"1\" class=\"dataframe\">\n",
       "  <thead>\n",
       "    <tr style=\"text-align: right;\">\n",
       "      <th></th>\n",
       "      <th>title</th>\n",
       "      <th>domain</th>\n",
       "      <th>url</th>\n",
       "      <th>date_created</th>\n",
       "      <th>num_upvotes</th>\n",
       "      <th>num_comments</th>\n",
       "      <th>posted_by_user</th>\n",
       "      <th>text</th>\n",
       "      <th>word_count</th>\n",
       "      <th>newtext</th>\n",
       "      <th>tokens</th>\n",
       "      <th>stopwordremoves</th>\n",
       "      <th>tokenize_and_stem</th>\n",
       "      <th>tokenize_and_lemmatize</th>\n",
       "      <th>cluster_group</th>\n",
       "    </tr>\n",
       "  </thead>\n",
       "  <tbody>\n",
       "    <tr>\n",
       "      <th>0</th>\n",
       "      <td>Working with Azure Application Insights in You...</td>\n",
       "      <td>(react.christmas)</td>\n",
       "      <td>https://react.christmas/2019/11</td>\n",
       "      <td>2 minutes ago</td>\n",
       "      <td>1 point</td>\n",
       "      <td>discuss</td>\n",
       "      <td>selbekk</td>\n",
       "      <td>a minute read written bysondre widmark and mar...</td>\n",
       "      <td>781</td>\n",
       "      <td>(a, minute, read, written, bysondre, widmark, ...</td>\n",
       "      <td>a minute read written bysondre widmark and mar...</td>\n",
       "      <td>None</td>\n",
       "      <td>minut read written bysondr widmark mari buøen ...</td>\n",
       "      <td>minute read write bysondre widmark marie buøen...</td>\n",
       "      <td>0</td>\n",
       "    </tr>\n",
       "    <tr>\n",
       "      <th>1</th>\n",
       "      <td>A universal tech code of conduct (parkersoftwa...</td>\n",
       "      <td>(parkersoftware.com)</td>\n",
       "      <td>https://www.parkersoftware.com/blog/a-universa...</td>\n",
       "      <td>3 minutes ago</td>\n",
       "      <td>3 points</td>\n",
       "      <td>discuss</td>\n",
       "      <td>roxyabercrombie</td>\n",
       "      <td>don t make technical assumptions don t back se...</td>\n",
       "      <td>757</td>\n",
       "      <td>(don, t, make, technical, assumptions, don, t,...</td>\n",
       "      <td>don t make technical assumptions don t back se...</td>\n",
       "      <td>None</td>\n",
       "      <td>don t technic assumpt don t seat develop don t...</td>\n",
       "      <td>don t technical assumption don t seat develop ...</td>\n",
       "      <td>0</td>\n",
       "    </tr>\n",
       "    <tr>\n",
       "      <th>2</th>\n",
       "      <td>Scolp: Streaming Column Printer for Python (Ne...</td>\n",
       "      <td>(github.com)</td>\n",
       "      <td>https://github.com/davidohana/python-scolp</td>\n",
       "      <td>4 minutes ago</td>\n",
       "      <td>1 point</td>\n",
       "      <td>discuss</td>\n",
       "      <td>davidoh</td>\n",
       "      <td>github is home to over million developers work...</td>\n",
       "      <td>337</td>\n",
       "      <td>(github, is, home, to, over, million, develope...</td>\n",
       "      <td>github is home to over million developers work...</td>\n",
       "      <td>None</td>\n",
       "      <td>github home million develop work host review c...</td>\n",
       "      <td>github home million developer work host review...</td>\n",
       "      <td>0</td>\n",
       "    </tr>\n",
       "    <tr>\n",
       "      <th>3</th>\n",
       "      <td>Thinking in React Hooks (wattenberger.com)</td>\n",
       "      <td>(wattenberger.com)</td>\n",
       "      <td>https://wattenberger.com/blog/react-hooks</td>\n",
       "      <td>5 minutes ago</td>\n",
       "      <td>1 point</td>\n",
       "      <td>discuss</td>\n",
       "      <td>mariuz</td>\n",
       "      <td></td>\n",
       "      <td>1</td>\n",
       "      <td>()</td>\n",
       "      <td></td>\n",
       "      <td>None</td>\n",
       "      <td></td>\n",
       "      <td></td>\n",
       "      <td>0</td>\n",
       "    </tr>\n",
       "    <tr>\n",
       "      <th>4</th>\n",
       "      <td>Startup School Winter 2020 (ycombinator.com)</td>\n",
       "      <td>(ycombinator.com)</td>\n",
       "      <td>https://blog.ycombinator.com/announcing-startu...</td>\n",
       "      <td>7 minutes ago</td>\n",
       "      <td>2 points</td>\n",
       "      <td>discuss</td>\n",
       "      <td>bithavoc</td>\n",
       "      <td>website is not giving access</td>\n",
       "      <td>5</td>\n",
       "      <td>(website, is, not, giving, access)</td>\n",
       "      <td>website is not giving access</td>\n",
       "      <td>None</td>\n",
       "      <td>websit give access</td>\n",
       "      <td>website give access</td>\n",
       "      <td>1</td>\n",
       "    </tr>\n",
       "    <tr>\n",
       "      <th>5</th>\n",
       "      <td>Lovers in Auschwitz, Reunited 72 Years Later. ...</td>\n",
       "      <td>(nytimes.com)</td>\n",
       "      <td>https://www.nytimes.com/2019/12/08/nyregion/au...</td>\n",
       "      <td>7 minutes ago</td>\n",
       "      <td>1 point</td>\n",
       "      <td>discuss</td>\n",
       "      <td>kevinwang</td>\n",
       "      <td>was she the reason he was alive today david wi...</td>\n",
       "      <td>3357</td>\n",
       "      <td>(was, she, the, reason, he, was, alive, today,...</td>\n",
       "      <td>was she the reason he was alive today david wi...</td>\n",
       "      <td>None</td>\n",
       "      <td>reason aliv today david wisnia home pennsylvan...</td>\n",
       "      <td>reason alive today david wisnia home pennsylva...</td>\n",
       "      <td>0</td>\n",
       "    </tr>\n",
       "  </tbody>\n",
       "</table>\n",
       "</div>"
      ],
      "text/plain": [
       "                                               title  ... cluster_group\n",
       "0  Working with Azure Application Insights in You...  ...             0\n",
       "1  A universal tech code of conduct (parkersoftwa...  ...             0\n",
       "2  Scolp: Streaming Column Printer for Python (Ne...  ...             0\n",
       "3         Thinking in React Hooks (wattenberger.com)  ...             0\n",
       "4       Startup School Winter 2020 (ycombinator.com)  ...             1\n",
       "5  Lovers in Auschwitz, Reunited 72 Years Later. ...  ...             0\n",
       "\n",
       "[6 rows x 15 columns]"
      ]
     },
     "execution_count": 89,
     "metadata": {
      "tags": []
     },
     "output_type": "execute_result"
    }
   ],
   "source": [
    "data['cluster_group'] = clusters\n",
    "pd.DataFrame(data).head(6)"
   ]
  },
  {
   "cell_type": "code",
   "execution_count": 0,
   "metadata": {
    "colab": {
     "base_uri": "https://localhost:8080/",
     "height": 72
    },
    "colab_type": "code",
    "id": "c-C5Hcqwq5I8",
    "outputId": "abe31dd6-ff05-434a-cc4d-66bfd71e7b88"
   },
   "outputs": [
    {
     "data": {
      "text/plain": [
       "0    485\n",
       "1    145\n",
       "Name: cluster_group, dtype: int64"
      ]
     },
     "execution_count": 90,
     "metadata": {
      "tags": []
     },
     "output_type": "execute_result"
    }
   ],
   "source": [
    "cluster_df = pd.DataFrame(data)\n",
    "cluster_df['cluster_group'].value_counts()"
   ]
  }
 ],
 "metadata": {
  "accelerator": "GPU",
  "colab": {
   "collapsed_sections": [],
   "name": "Web scraping .ipynb",
   "provenance": []
  },
  "kernelspec": {
   "display_name": "Python 3",
   "language": "python",
   "name": "python3"
  },
  "language_info": {
   "codemirror_mode": {
    "name": "ipython",
    "version": 3
   },
   "file_extension": ".py",
   "mimetype": "text/x-python",
   "name": "python",
   "nbconvert_exporter": "python",
   "pygments_lexer": "ipython3",
   "version": "3.7.4"
  }
 },
 "nbformat": 4,
 "nbformat_minor": 1
}
